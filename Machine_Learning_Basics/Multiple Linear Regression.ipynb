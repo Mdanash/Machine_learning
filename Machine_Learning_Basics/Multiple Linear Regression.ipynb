{
 "cells": [
  {
   "cell_type": "code",
   "execution_count": 1,
   "id": "8d896e8d",
   "metadata": {},
   "outputs": [],
   "source": [
    "#pip install numpy"
   ]
  },
  {
   "cell_type": "code",
   "execution_count": 2,
   "id": "4004fbcb",
   "metadata": {},
   "outputs": [],
   "source": [
    "#pip install pandas"
   ]
  },
  {
   "cell_type": "code",
   "execution_count": 3,
   "id": "a34f02f8",
   "metadata": {},
   "outputs": [],
   "source": [
    "#pip install matplotlib"
   ]
  },
  {
   "cell_type": "code",
   "execution_count": 4,
   "id": "855b7620",
   "metadata": {},
   "outputs": [],
   "source": [
    "#pip install scikit-learn"
   ]
  },
  {
   "cell_type": "code",
   "execution_count": 5,
   "id": "e10d3a28",
   "metadata": {},
   "outputs": [],
   "source": [
    "import numpy as nump\n",
    "import pandas as pd\n",
    "import matplotlib.pyplot as py\n",
    "from sklearn.impute import SimpleImputer\n",
    "from sklearn.model_selection import train_test_split\n",
    "from sklearn.linear_model import LinearRegression\n",
    "%matplotlib inline\n"
   ]
  },
  {
   "cell_type": "code",
   "execution_count": 6,
   "id": "01559aa3",
   "metadata": {},
   "outputs": [],
   "source": [
    "import warnings\n",
    "warnings.simplefilter('ignore')"
   ]
  },
  {
   "cell_type": "code",
   "execution_count": 7,
   "id": "c2ca76e5",
   "metadata": {},
   "outputs": [
    {
     "data": {
      "text/html": [
       "<div>\n",
       "<style scoped>\n",
       "    .dataframe tbody tr th:only-of-type {\n",
       "        vertical-align: middle;\n",
       "    }\n",
       "\n",
       "    .dataframe tbody tr th {\n",
       "        vertical-align: top;\n",
       "    }\n",
       "\n",
       "    .dataframe thead th {\n",
       "        text-align: right;\n",
       "    }\n",
       "</style>\n",
       "<table border=\"1\" class=\"dataframe\">\n",
       "  <thead>\n",
       "    <tr style=\"text-align: right;\">\n",
       "      <th></th>\n",
       "      <th>Serial No.</th>\n",
       "      <th>GRE Score</th>\n",
       "      <th>TOEFL Score</th>\n",
       "      <th>University Rating</th>\n",
       "      <th>SOP</th>\n",
       "      <th>LOR</th>\n",
       "      <th>CGPA</th>\n",
       "      <th>Research</th>\n",
       "      <th>Chance of Admit</th>\n",
       "    </tr>\n",
       "  </thead>\n",
       "  <tbody>\n",
       "    <tr>\n",
       "      <th>0</th>\n",
       "      <td>1</td>\n",
       "      <td>337</td>\n",
       "      <td>118</td>\n",
       "      <td>4</td>\n",
       "      <td>4.5</td>\n",
       "      <td>4.5</td>\n",
       "      <td>9.65</td>\n",
       "      <td>1</td>\n",
       "      <td>0.92</td>\n",
       "    </tr>\n",
       "    <tr>\n",
       "      <th>1</th>\n",
       "      <td>2</td>\n",
       "      <td>324</td>\n",
       "      <td>107</td>\n",
       "      <td>4</td>\n",
       "      <td>4.0</td>\n",
       "      <td>4.5</td>\n",
       "      <td>8.87</td>\n",
       "      <td>1</td>\n",
       "      <td>0.76</td>\n",
       "    </tr>\n",
       "    <tr>\n",
       "      <th>2</th>\n",
       "      <td>3</td>\n",
       "      <td>316</td>\n",
       "      <td>104</td>\n",
       "      <td>3</td>\n",
       "      <td>3.0</td>\n",
       "      <td>3.5</td>\n",
       "      <td>8.00</td>\n",
       "      <td>1</td>\n",
       "      <td>0.72</td>\n",
       "    </tr>\n",
       "    <tr>\n",
       "      <th>3</th>\n",
       "      <td>4</td>\n",
       "      <td>322</td>\n",
       "      <td>110</td>\n",
       "      <td>3</td>\n",
       "      <td>3.5</td>\n",
       "      <td>2.5</td>\n",
       "      <td>8.67</td>\n",
       "      <td>1</td>\n",
       "      <td>0.80</td>\n",
       "    </tr>\n",
       "    <tr>\n",
       "      <th>4</th>\n",
       "      <td>5</td>\n",
       "      <td>314</td>\n",
       "      <td>103</td>\n",
       "      <td>2</td>\n",
       "      <td>2.0</td>\n",
       "      <td>3.0</td>\n",
       "      <td>8.21</td>\n",
       "      <td>0</td>\n",
       "      <td>0.65</td>\n",
       "    </tr>\n",
       "    <tr>\n",
       "      <th>...</th>\n",
       "      <td>...</td>\n",
       "      <td>...</td>\n",
       "      <td>...</td>\n",
       "      <td>...</td>\n",
       "      <td>...</td>\n",
       "      <td>...</td>\n",
       "      <td>...</td>\n",
       "      <td>...</td>\n",
       "      <td>...</td>\n",
       "    </tr>\n",
       "    <tr>\n",
       "      <th>495</th>\n",
       "      <td>496</td>\n",
       "      <td>332</td>\n",
       "      <td>108</td>\n",
       "      <td>5</td>\n",
       "      <td>4.5</td>\n",
       "      <td>4.0</td>\n",
       "      <td>9.02</td>\n",
       "      <td>1</td>\n",
       "      <td>0.87</td>\n",
       "    </tr>\n",
       "    <tr>\n",
       "      <th>496</th>\n",
       "      <td>497</td>\n",
       "      <td>337</td>\n",
       "      <td>117</td>\n",
       "      <td>5</td>\n",
       "      <td>5.0</td>\n",
       "      <td>5.0</td>\n",
       "      <td>9.87</td>\n",
       "      <td>1</td>\n",
       "      <td>0.96</td>\n",
       "    </tr>\n",
       "    <tr>\n",
       "      <th>497</th>\n",
       "      <td>498</td>\n",
       "      <td>330</td>\n",
       "      <td>120</td>\n",
       "      <td>5</td>\n",
       "      <td>4.5</td>\n",
       "      <td>5.0</td>\n",
       "      <td>9.56</td>\n",
       "      <td>1</td>\n",
       "      <td>0.93</td>\n",
       "    </tr>\n",
       "    <tr>\n",
       "      <th>498</th>\n",
       "      <td>499</td>\n",
       "      <td>312</td>\n",
       "      <td>103</td>\n",
       "      <td>4</td>\n",
       "      <td>4.0</td>\n",
       "      <td>5.0</td>\n",
       "      <td>8.43</td>\n",
       "      <td>0</td>\n",
       "      <td>0.73</td>\n",
       "    </tr>\n",
       "    <tr>\n",
       "      <th>499</th>\n",
       "      <td>500</td>\n",
       "      <td>327</td>\n",
       "      <td>113</td>\n",
       "      <td>4</td>\n",
       "      <td>4.5</td>\n",
       "      <td>4.5</td>\n",
       "      <td>9.04</td>\n",
       "      <td>0</td>\n",
       "      <td>0.84</td>\n",
       "    </tr>\n",
       "  </tbody>\n",
       "</table>\n",
       "<p>500 rows × 9 columns</p>\n",
       "</div>"
      ],
      "text/plain": [
       "     Serial No.  GRE Score  TOEFL Score  University Rating  SOP  LOR  CGPA  \\\n",
       "0             1        337          118                  4  4.5  4.5  9.65   \n",
       "1             2        324          107                  4  4.0  4.5  8.87   \n",
       "2             3        316          104                  3  3.0  3.5  8.00   \n",
       "3             4        322          110                  3  3.5  2.5  8.67   \n",
       "4             5        314          103                  2  2.0  3.0  8.21   \n",
       "..          ...        ...          ...                ...  ...  ...   ...   \n",
       "495         496        332          108                  5  4.5  4.0  9.02   \n",
       "496         497        337          117                  5  5.0  5.0  9.87   \n",
       "497         498        330          120                  5  4.5  5.0  9.56   \n",
       "498         499        312          103                  4  4.0  5.0  8.43   \n",
       "499         500        327          113                  4  4.5  4.5  9.04   \n",
       "\n",
       "     Research  Chance of Admit  \n",
       "0           1             0.92  \n",
       "1           1             0.76  \n",
       "2           1             0.72  \n",
       "3           1             0.80  \n",
       "4           0             0.65  \n",
       "..        ...              ...  \n",
       "495         1             0.87  \n",
       "496         1             0.96  \n",
       "497         1             0.93  \n",
       "498         0             0.73  \n",
       "499         0             0.84  \n",
       "\n",
       "[500 rows x 9 columns]"
      ]
     },
     "execution_count": 7,
     "metadata": {},
     "output_type": "execute_result"
    }
   ],
   "source": [
    "data=pd.read_csv('Admission_Predict_Ver1.1.csv')\n",
    "data"
   ]
  },
  {
   "cell_type": "code",
   "execution_count": 8,
   "id": "ec0177b0",
   "metadata": {},
   "outputs": [
    {
     "data": {
      "text/html": [
       "<div>\n",
       "<style scoped>\n",
       "    .dataframe tbody tr th:only-of-type {\n",
       "        vertical-align: middle;\n",
       "    }\n",
       "\n",
       "    .dataframe tbody tr th {\n",
       "        vertical-align: top;\n",
       "    }\n",
       "\n",
       "    .dataframe thead th {\n",
       "        text-align: right;\n",
       "    }\n",
       "</style>\n",
       "<table border=\"1\" class=\"dataframe\">\n",
       "  <thead>\n",
       "    <tr style=\"text-align: right;\">\n",
       "      <th></th>\n",
       "      <th>GRE Score</th>\n",
       "      <th>TOEFL Score</th>\n",
       "      <th>University Rating</th>\n",
       "      <th>SOP</th>\n",
       "      <th>LOR</th>\n",
       "      <th>CGPA</th>\n",
       "      <th>Research</th>\n",
       "      <th>Chance of Admit</th>\n",
       "    </tr>\n",
       "  </thead>\n",
       "  <tbody>\n",
       "    <tr>\n",
       "      <th>0</th>\n",
       "      <td>337</td>\n",
       "      <td>118</td>\n",
       "      <td>4</td>\n",
       "      <td>4.5</td>\n",
       "      <td>4.5</td>\n",
       "      <td>9.65</td>\n",
       "      <td>1</td>\n",
       "      <td>0.92</td>\n",
       "    </tr>\n",
       "    <tr>\n",
       "      <th>1</th>\n",
       "      <td>324</td>\n",
       "      <td>107</td>\n",
       "      <td>4</td>\n",
       "      <td>4.0</td>\n",
       "      <td>4.5</td>\n",
       "      <td>8.87</td>\n",
       "      <td>1</td>\n",
       "      <td>0.76</td>\n",
       "    </tr>\n",
       "    <tr>\n",
       "      <th>2</th>\n",
       "      <td>316</td>\n",
       "      <td>104</td>\n",
       "      <td>3</td>\n",
       "      <td>3.0</td>\n",
       "      <td>3.5</td>\n",
       "      <td>8.00</td>\n",
       "      <td>1</td>\n",
       "      <td>0.72</td>\n",
       "    </tr>\n",
       "    <tr>\n",
       "      <th>3</th>\n",
       "      <td>322</td>\n",
       "      <td>110</td>\n",
       "      <td>3</td>\n",
       "      <td>3.5</td>\n",
       "      <td>2.5</td>\n",
       "      <td>8.67</td>\n",
       "      <td>1</td>\n",
       "      <td>0.80</td>\n",
       "    </tr>\n",
       "    <tr>\n",
       "      <th>4</th>\n",
       "      <td>314</td>\n",
       "      <td>103</td>\n",
       "      <td>2</td>\n",
       "      <td>2.0</td>\n",
       "      <td>3.0</td>\n",
       "      <td>8.21</td>\n",
       "      <td>0</td>\n",
       "      <td>0.65</td>\n",
       "    </tr>\n",
       "    <tr>\n",
       "      <th>...</th>\n",
       "      <td>...</td>\n",
       "      <td>...</td>\n",
       "      <td>...</td>\n",
       "      <td>...</td>\n",
       "      <td>...</td>\n",
       "      <td>...</td>\n",
       "      <td>...</td>\n",
       "      <td>...</td>\n",
       "    </tr>\n",
       "    <tr>\n",
       "      <th>495</th>\n",
       "      <td>332</td>\n",
       "      <td>108</td>\n",
       "      <td>5</td>\n",
       "      <td>4.5</td>\n",
       "      <td>4.0</td>\n",
       "      <td>9.02</td>\n",
       "      <td>1</td>\n",
       "      <td>0.87</td>\n",
       "    </tr>\n",
       "    <tr>\n",
       "      <th>496</th>\n",
       "      <td>337</td>\n",
       "      <td>117</td>\n",
       "      <td>5</td>\n",
       "      <td>5.0</td>\n",
       "      <td>5.0</td>\n",
       "      <td>9.87</td>\n",
       "      <td>1</td>\n",
       "      <td>0.96</td>\n",
       "    </tr>\n",
       "    <tr>\n",
       "      <th>497</th>\n",
       "      <td>330</td>\n",
       "      <td>120</td>\n",
       "      <td>5</td>\n",
       "      <td>4.5</td>\n",
       "      <td>5.0</td>\n",
       "      <td>9.56</td>\n",
       "      <td>1</td>\n",
       "      <td>0.93</td>\n",
       "    </tr>\n",
       "    <tr>\n",
       "      <th>498</th>\n",
       "      <td>312</td>\n",
       "      <td>103</td>\n",
       "      <td>4</td>\n",
       "      <td>4.0</td>\n",
       "      <td>5.0</td>\n",
       "      <td>8.43</td>\n",
       "      <td>0</td>\n",
       "      <td>0.73</td>\n",
       "    </tr>\n",
       "    <tr>\n",
       "      <th>499</th>\n",
       "      <td>327</td>\n",
       "      <td>113</td>\n",
       "      <td>4</td>\n",
       "      <td>4.5</td>\n",
       "      <td>4.5</td>\n",
       "      <td>9.04</td>\n",
       "      <td>0</td>\n",
       "      <td>0.84</td>\n",
       "    </tr>\n",
       "  </tbody>\n",
       "</table>\n",
       "<p>500 rows × 8 columns</p>\n",
       "</div>"
      ],
      "text/plain": [
       "     GRE Score  TOEFL Score  University Rating  SOP  LOR  CGPA  Research  \\\n",
       "0          337          118                  4  4.5  4.5  9.65         1   \n",
       "1          324          107                  4  4.0  4.5  8.87         1   \n",
       "2          316          104                  3  3.0  3.5  8.00         1   \n",
       "3          322          110                  3  3.5  2.5  8.67         1   \n",
       "4          314          103                  2  2.0  3.0  8.21         0   \n",
       "..         ...          ...                ...  ...  ...   ...       ...   \n",
       "495        332          108                  5  4.5  4.0  9.02         1   \n",
       "496        337          117                  5  5.0  5.0  9.87         1   \n",
       "497        330          120                  5  4.5  5.0  9.56         1   \n",
       "498        312          103                  4  4.0  5.0  8.43         0   \n",
       "499        327          113                  4  4.5  4.5  9.04         0   \n",
       "\n",
       "     Chance of Admit  \n",
       "0               0.92  \n",
       "1               0.76  \n",
       "2               0.72  \n",
       "3               0.80  \n",
       "4               0.65  \n",
       "..               ...  \n",
       "495             0.87  \n",
       "496             0.96  \n",
       "497             0.93  \n",
       "498             0.73  \n",
       "499             0.84  \n",
       "\n",
       "[500 rows x 8 columns]"
      ]
     },
     "execution_count": 8,
     "metadata": {},
     "output_type": "execute_result"
    }
   ],
   "source": [
    "dataset=data.drop(['Serial No.'],axis=1)\n",
    "dataset"
   ]
  },
  {
   "cell_type": "code",
   "execution_count": 9,
   "id": "62001a23",
   "metadata": {},
   "outputs": [],
   "source": [
    "x=dataset.iloc[:,:-2].values\n",
    "y=dataset.iloc[:,-1].values"
   ]
  },
  {
   "cell_type": "code",
   "execution_count": 10,
   "id": "0cdff2f7",
   "metadata": {},
   "outputs": [
    {
     "data": {
      "text/plain": [
       "array([[337.  , 118.  ,   4.  ,   4.5 ,   4.5 ,   9.65],\n",
       "       [324.  , 107.  ,   4.  ,   4.  ,   4.5 ,   8.87],\n",
       "       [316.  , 104.  ,   3.  ,   3.  ,   3.5 ,   8.  ],\n",
       "       ...,\n",
       "       [330.  , 120.  ,   5.  ,   4.5 ,   5.  ,   9.56],\n",
       "       [312.  , 103.  ,   4.  ,   4.  ,   5.  ,   8.43],\n",
       "       [327.  , 113.  ,   4.  ,   4.5 ,   4.5 ,   9.04]])"
      ]
     },
     "execution_count": 10,
     "metadata": {},
     "output_type": "execute_result"
    }
   ],
   "source": [
    "x"
   ]
  },
  {
   "cell_type": "code",
   "execution_count": 11,
   "id": "42d328ce",
   "metadata": {},
   "outputs": [
    {
     "data": {
      "text/plain": [
       "array([0.92, 0.76, 0.72, 0.8 , 0.65, 0.9 , 0.75, 0.68, 0.5 , 0.45, 0.52,\n",
       "       0.84, 0.78, 0.62, 0.61, 0.54, 0.66, 0.65, 0.63, 0.62, 0.64, 0.7 ,\n",
       "       0.94, 0.95, 0.97, 0.94, 0.76, 0.44, 0.46, 0.54, 0.65, 0.74, 0.91,\n",
       "       0.9 , 0.94, 0.88, 0.64, 0.58, 0.52, 0.48, 0.46, 0.49, 0.53, 0.87,\n",
       "       0.91, 0.88, 0.86, 0.89, 0.82, 0.78, 0.76, 0.56, 0.78, 0.72, 0.7 ,\n",
       "       0.64, 0.64, 0.46, 0.36, 0.42, 0.48, 0.47, 0.54, 0.56, 0.52, 0.55,\n",
       "       0.61, 0.57, 0.68, 0.78, 0.94, 0.96, 0.93, 0.84, 0.74, 0.72, 0.74,\n",
       "       0.64, 0.44, 0.46, 0.5 , 0.96, 0.92, 0.92, 0.94, 0.76, 0.72, 0.66,\n",
       "       0.64, 0.74, 0.64, 0.38, 0.34, 0.44, 0.36, 0.42, 0.48, 0.86, 0.9 ,\n",
       "       0.79, 0.71, 0.64, 0.62, 0.57, 0.74, 0.69, 0.87, 0.91, 0.93, 0.68,\n",
       "       0.61, 0.69, 0.62, 0.72, 0.59, 0.66, 0.56, 0.45, 0.47, 0.71, 0.94,\n",
       "       0.94, 0.57, 0.61, 0.57, 0.64, 0.85, 0.78, 0.84, 0.92, 0.96, 0.77,\n",
       "       0.71, 0.79, 0.89, 0.82, 0.76, 0.71, 0.8 , 0.78, 0.84, 0.9 , 0.92,\n",
       "       0.97, 0.8 , 0.81, 0.75, 0.83, 0.96, 0.79, 0.93, 0.94, 0.86, 0.79,\n",
       "       0.8 , 0.77, 0.7 , 0.65, 0.61, 0.52, 0.57, 0.53, 0.67, 0.68, 0.81,\n",
       "       0.78, 0.65, 0.64, 0.64, 0.65, 0.68, 0.89, 0.86, 0.89, 0.87, 0.85,\n",
       "       0.9 , 0.82, 0.72, 0.73, 0.71, 0.71, 0.68, 0.75, 0.72, 0.89, 0.84,\n",
       "       0.93, 0.93, 0.88, 0.9 , 0.87, 0.86, 0.94, 0.77, 0.78, 0.73, 0.73,\n",
       "       0.7 , 0.72, 0.73, 0.72, 0.97, 0.97, 0.69, 0.57, 0.63, 0.66, 0.64,\n",
       "       0.68, 0.79, 0.82, 0.95, 0.96, 0.94, 0.93, 0.91, 0.85, 0.84, 0.74,\n",
       "       0.76, 0.75, 0.76, 0.71, 0.67, 0.61, 0.63, 0.64, 0.71, 0.82, 0.73,\n",
       "       0.74, 0.69, 0.64, 0.91, 0.88, 0.85, 0.86, 0.7 , 0.59, 0.6 , 0.65,\n",
       "       0.7 , 0.76, 0.63, 0.81, 0.72, 0.71, 0.8 , 0.77, 0.74, 0.7 , 0.71,\n",
       "       0.93, 0.85, 0.79, 0.76, 0.78, 0.77, 0.9 , 0.87, 0.71, 0.7 , 0.7 ,\n",
       "       0.75, 0.71, 0.72, 0.73, 0.83, 0.77, 0.72, 0.54, 0.49, 0.52, 0.58,\n",
       "       0.78, 0.89, 0.7 , 0.66, 0.67, 0.68, 0.8 , 0.81, 0.8 , 0.94, 0.93,\n",
       "       0.92, 0.89, 0.82, 0.79, 0.58, 0.56, 0.56, 0.64, 0.61, 0.68, 0.76,\n",
       "       0.86, 0.9 , 0.71, 0.62, 0.66, 0.65, 0.73, 0.62, 0.74, 0.79, 0.8 ,\n",
       "       0.69, 0.7 , 0.76, 0.84, 0.78, 0.67, 0.66, 0.65, 0.54, 0.58, 0.79,\n",
       "       0.8 , 0.75, 0.73, 0.72, 0.62, 0.67, 0.81, 0.63, 0.69, 0.8 , 0.43,\n",
       "       0.8 , 0.73, 0.75, 0.71, 0.73, 0.83, 0.72, 0.94, 0.81, 0.81, 0.75,\n",
       "       0.79, 0.58, 0.59, 0.47, 0.49, 0.47, 0.42, 0.57, 0.62, 0.74, 0.73,\n",
       "       0.64, 0.63, 0.59, 0.73, 0.79, 0.68, 0.7 , 0.81, 0.85, 0.93, 0.91,\n",
       "       0.69, 0.77, 0.86, 0.74, 0.57, 0.51, 0.67, 0.72, 0.89, 0.95, 0.79,\n",
       "       0.39, 0.38, 0.34, 0.47, 0.56, 0.71, 0.78, 0.73, 0.82, 0.62, 0.96,\n",
       "       0.96, 0.46, 0.53, 0.49, 0.76, 0.64, 0.71, 0.84, 0.77, 0.89, 0.82,\n",
       "       0.84, 0.91, 0.67, 0.95, 0.63, 0.66, 0.78, 0.91, 0.62, 0.52, 0.61,\n",
       "       0.58, 0.57, 0.61, 0.54, 0.56, 0.59, 0.49, 0.72, 0.76, 0.65, 0.52,\n",
       "       0.6 , 0.58, 0.42, 0.77, 0.73, 0.94, 0.91, 0.92, 0.71, 0.71, 0.69,\n",
       "       0.95, 0.74, 0.73, 0.86, 0.71, 0.64, 0.55, 0.58, 0.61, 0.67, 0.66,\n",
       "       0.53, 0.79, 0.92, 0.87, 0.92, 0.91, 0.93, 0.84, 0.8 , 0.79, 0.82,\n",
       "       0.89, 0.93, 0.73, 0.71, 0.59, 0.51, 0.37, 0.69, 0.89, 0.77, 0.68,\n",
       "       0.62, 0.57, 0.45, 0.54, 0.71, 0.78, 0.81, 0.86, 0.87, 0.64, 0.9 ,\n",
       "       0.67, 0.67, 0.59, 0.62, 0.65, 0.71, 0.79, 0.8 , 0.78, 0.83, 0.71,\n",
       "       0.73, 0.7 , 0.68, 0.79, 0.76, 0.65, 0.67, 0.54, 0.53, 0.62, 0.68,\n",
       "       0.87, 0.96, 0.93, 0.73, 0.84])"
      ]
     },
     "execution_count": 11,
     "metadata": {},
     "output_type": "execute_result"
    }
   ],
   "source": [
    "y"
   ]
  },
  {
   "cell_type": "code",
   "execution_count": 12,
   "id": "dec712b2",
   "metadata": {},
   "outputs": [],
   "source": [
    "#from sklearn.model_selection import train_test_split\n",
    "x_train,x_test,y_train,y_test=train_test_split(x,y,test_size=0.2,random_state=0)"
   ]
  },
  {
   "cell_type": "code",
   "execution_count": 13,
   "id": "8118e400",
   "metadata": {},
   "outputs": [
    {
     "data": {
      "text/plain": [
       "array([[338.  , 117.  ,   4.  ,   3.5 ,   4.5 ,   9.46],\n",
       "       [319.  , 110.  ,   3.  ,   3.  ,   2.5 ,   8.79],\n",
       "       [336.  , 112.  ,   5.  ,   5.  ,   5.  ,   9.76],\n",
       "       ...,\n",
       "       [290.  , 104.  ,   4.  ,   2.  ,   2.5 ,   7.46],\n",
       "       [339.  , 119.  ,   5.  ,   4.5 ,   4.  ,   9.7 ],\n",
       "       [322.  , 110.  ,   4.  ,   4.  ,   5.  ,   9.13]])"
      ]
     },
     "execution_count": 13,
     "metadata": {},
     "output_type": "execute_result"
    }
   ],
   "source": [
    "x_train"
   ]
  },
  {
   "cell_type": "code",
   "execution_count": 14,
   "id": "758295b6",
   "metadata": {},
   "outputs": [
    {
     "data": {
      "text/plain": [
       "array([[318.  , 106.  ,   2.  ,   4.  ,   4.  ,   7.92],\n",
       "       [321.  , 114.  ,   4.  ,   4.  ,   5.  ,   9.12],\n",
       "       [321.  , 111.  ,   3.  ,   2.5 ,   3.  ,   8.9 ],\n",
       "       [328.  , 116.  ,   5.  ,   4.5 ,   5.  ,   9.08],\n",
       "       [301.  , 102.  ,   3.  ,   2.5 ,   2.  ,   8.13],\n",
       "       [314.  , 105.  ,   3.  ,   3.5 ,   2.5 ,   8.3 ],\n",
       "       [298.  , 101.  ,   2.  ,   1.5 ,   2.  ,   7.86],\n",
       "       [302.  , 110.  ,   3.  ,   4.  ,   4.5 ,   8.5 ],\n",
       "       [297.  , 100.  ,   1.  ,   1.5 ,   2.  ,   7.9 ],\n",
       "       [324.  , 105.  ,   3.  ,   3.  ,   4.  ,   8.75],\n",
       "       [317.  , 103.  ,   2.  ,   2.5 ,   2.  ,   8.15],\n",
       "       [320.  , 104.  ,   3.  ,   3.  ,   2.5 ,   8.57],\n",
       "       [314.  , 102.  ,   2.  ,   2.  ,   2.5 ,   8.24],\n",
       "       [313.  , 109.  ,   3.  ,   4.  ,   3.5 ,   9.  ],\n",
       "       [334.  , 117.  ,   5.  ,   4.  ,   4.5 ,   9.07],\n",
       "       [297.  ,  96.  ,   2.  ,   2.5 ,   1.5 ,   7.89],\n",
       "       [323.  , 110.  ,   4.  ,   4.  ,   5.  ,   8.88],\n",
       "       [317.  , 106.  ,   2.  ,   2.  ,   3.5 ,   8.12],\n",
       "       [326.  , 108.  ,   3.  ,   3.  ,   3.5 ,   8.89],\n",
       "       [300.  , 105.  ,   1.  ,   1.  ,   2.  ,   7.8 ],\n",
       "       [295.  ,  99.  ,   2.  ,   2.5 ,   3.  ,   7.65],\n",
       "       [320.  , 104.  ,   3.  ,   3.5 ,   4.5 ,   8.34],\n",
       "       [296.  , 101.  ,   1.  ,   2.5 ,   3.  ,   7.68],\n",
       "       [331.  , 116.  ,   5.  ,   5.  ,   5.  ,   9.38],\n",
       "       [322.  , 110.  ,   5.  ,   5.  ,   4.  ,   9.1 ],\n",
       "       [318.  , 110.  ,   1.  ,   2.5 ,   3.5 ,   8.54],\n",
       "       [325.  , 114.  ,   4.  ,   3.  ,   2.  ,   8.4 ],\n",
       "       [311.  ,  98.  ,   1.  ,   1.  ,   2.5 ,   7.46],\n",
       "       [306.  , 100.  ,   2.  ,   3.  ,   3.  ,   8.  ],\n",
       "       [304.  , 100.  ,   2.  ,   2.5 ,   3.5 ,   8.07],\n",
       "       [316.  , 103.  ,   2.  ,   2.  ,   4.5 ,   8.74],\n",
       "       [296.  ,  99.  ,   2.  ,   3.  ,   3.5 ,   7.28],\n",
       "       [301.  , 106.  ,   4.  ,   2.5 ,   3.  ,   8.47],\n",
       "       [323.  , 110.  ,   5.  ,   4.  ,   5.  ,   8.98],\n",
       "       [315.  , 105.  ,   2.  ,   2.  ,   2.5 ,   7.65],\n",
       "       [298.  , 101.  ,   4.  ,   2.5 ,   4.5 ,   7.69],\n",
       "       [328.  , 108.  ,   4.  ,   4.5 ,   4.  ,   9.18],\n",
       "       [324.  , 113.  ,   4.  ,   4.5 ,   4.5 ,   9.25],\n",
       "       [300.  , 102.  ,   3.  ,   3.5 ,   2.5 ,   8.17],\n",
       "       [310.  , 104.  ,   3.  ,   2.  ,   3.5 ,   8.37],\n",
       "       [314.  , 107.  ,   2.  ,   2.5 ,   4.  ,   8.27],\n",
       "       [329.  , 114.  ,   5.  ,   4.  ,   5.  ,   9.3 ],\n",
       "       [330.  , 116.  ,   4.  ,   4.  ,   3.5 ,   9.23],\n",
       "       [316.  , 110.  ,   3.  ,   3.5 ,   4.  ,   8.56],\n",
       "       [327.  , 112.  ,   3.  ,   3.  ,   3.  ,   8.72],\n",
       "       [324.  , 107.  ,   4.  ,   4.  ,   4.5 ,   8.87],\n",
       "       [333.  , 119.  ,   5.  ,   5.  ,   4.5 ,   9.78],\n",
       "       [326.  , 116.  ,   3.  ,   3.5 ,   4.  ,   9.14],\n",
       "       [309.  , 111.  ,   2.  ,   2.5 ,   4.  ,   8.03],\n",
       "       [314.  , 106.  ,   2.  ,   4.  ,   3.5 ,   8.25],\n",
       "       [306.  , 103.  ,   2.  ,   2.5 ,   3.  ,   8.36],\n",
       "       [312.  , 101.  ,   2.  ,   2.5 ,   3.5 ,   8.04],\n",
       "       [305.  , 103.  ,   2.  ,   2.5 ,   3.5 ,   8.13],\n",
       "       [325.  , 112.  ,   2.  ,   3.  ,   3.5 ,   8.96],\n",
       "       [309.  , 105.  ,   5.  ,   3.5 ,   3.5 ,   8.56],\n",
       "       [328.  , 112.  ,   4.  ,   4.  ,   4.5 ,   9.1 ],\n",
       "       [295.  , 101.  ,   2.  ,   2.5 ,   2.  ,   7.86],\n",
       "       [323.  , 113.  ,   4.  ,   4.  ,   4.5 ,   9.23],\n",
       "       [305.  , 105.  ,   2.  ,   3.  ,   2.  ,   8.23],\n",
       "       [308.  , 106.  ,   3.  ,   3.  ,   3.  ,   8.24],\n",
       "       [296.  ,  95.  ,   2.  ,   3.  ,   2.  ,   7.54],\n",
       "       [329.  , 113.  ,   5.  ,   5.  ,   4.5 ,   9.45],\n",
       "       [307.  , 105.  ,   2.  ,   2.  ,   3.5 ,   8.1 ],\n",
       "       [323.  , 111.  ,   5.  ,   4.  ,   5.  ,   9.86],\n",
       "       [319.  , 108.  ,   2.  ,   2.5 ,   3.  ,   8.76],\n",
       "       [306.  , 105.  ,   2.  ,   3.  ,   2.5 ,   8.26],\n",
       "       [325.  , 106.  ,   3.  ,   3.5 ,   4.  ,   8.4 ],\n",
       "       [326.  , 114.  ,   4.  ,   4.  ,   3.5 ,   9.16],\n",
       "       [299.  ,  96.  ,   2.  ,   1.5 ,   2.  ,   7.86],\n",
       "       [329.  , 114.  ,   2.  ,   2.  ,   4.  ,   8.56],\n",
       "       [331.  , 115.  ,   5.  ,   4.  ,   3.5 ,   9.44],\n",
       "       [325.  , 112.  ,   4.  ,   3.5 ,   3.5 ,   8.92],\n",
       "       [312.  , 107.  ,   3.  ,   3.  ,   3.  ,   8.46],\n",
       "       [317.  , 106.  ,   3.  ,   3.5 ,   3.  ,   7.89],\n",
       "       [320.  , 111.  ,   4.  ,   4.5 ,   3.5 ,   8.87],\n",
       "       [338.  , 115.  ,   5.  ,   4.5 ,   5.  ,   9.23],\n",
       "       [325.  , 110.  ,   2.  ,   3.  ,   2.5 ,   8.76],\n",
       "       [322.  , 107.  ,   3.  ,   3.5 ,   3.5 ,   8.46],\n",
       "       [297.  ,  99.  ,   4.  ,   3.  ,   3.5 ,   7.81],\n",
       "       [317.  , 100.  ,   2.  ,   3.  ,   2.5 ,   8.57],\n",
       "       [309.  , 106.  ,   2.  ,   2.5 ,   2.5 ,   8.  ],\n",
       "       [326.  , 111.  ,   5.  ,   4.5 ,   4.  ,   9.23],\n",
       "       [300.  , 101.  ,   3.  ,   3.5 ,   2.5 ,   7.88],\n",
       "       [312.  , 104.  ,   3.  ,   3.5 ,   3.5 ,   8.42],\n",
       "       [327.  , 113.  ,   3.  ,   3.5 ,   3.  ,   8.66],\n",
       "       [299.  , 100.  ,   3.  ,   2.  ,   2.  ,   8.02],\n",
       "       [321.  , 112.  ,   3.  ,   3.  ,   4.5 ,   8.95],\n",
       "       [309.  , 104.  ,   2.  ,   2.  ,   2.5 ,   8.26],\n",
       "       [302.  ,  99.  ,   1.  ,   2.  ,   2.  ,   7.25],\n",
       "       [322.  , 110.  ,   3.  ,   3.  ,   3.5 ,   8.  ],\n",
       "       [313.  , 103.  ,   3.  ,   4.  ,   4.  ,   8.75],\n",
       "       [324.  , 109.  ,   3.  ,   3.5 ,   3.  ,   8.94],\n",
       "       [311.  ,  99.  ,   1.  ,   2.5 ,   3.  ,   8.43],\n",
       "       [317.  , 103.  ,   3.  ,   2.5 ,   3.  ,   8.54],\n",
       "       [307.  , 102.  ,   3.  ,   3.  ,   3.  ,   8.27],\n",
       "       [336.  , 119.  ,   4.  ,   4.5 ,   4.  ,   9.62],\n",
       "       [316.  , 102.  ,   3.  ,   2.  ,   3.  ,   7.4 ],\n",
       "       [305.  , 104.  ,   2.  ,   2.5 ,   1.5 ,   7.79],\n",
       "       [309.  , 100.  ,   2.  ,   3.  ,   3.  ,   8.1 ],\n",
       "       [305.  , 106.  ,   2.  ,   3.  ,   3.  ,   8.16]])"
      ]
     },
     "execution_count": 14,
     "metadata": {},
     "output_type": "execute_result"
    }
   ],
   "source": [
    "x_test"
   ]
  },
  {
   "cell_type": "code",
   "execution_count": 15,
   "id": "b82ddbeb",
   "metadata": {},
   "outputs": [
    {
     "data": {
      "text/plain": [
       "array([0.91, 0.72, 0.96, 0.67, 0.75, 0.59, 0.72, 0.85, 0.71, 0.77, 0.49,\n",
       "       0.68, 0.71, 0.5 , 0.57, 0.86, 0.38, 0.94, 0.79, 0.93, 0.74, 0.78,\n",
       "       0.89, 0.86, 0.49, 0.59, 0.42, 0.61, 0.71, 0.56, 0.7 , 0.82, 0.86,\n",
       "       0.64, 0.64, 0.67, 0.69, 0.37, 0.73, 0.84, 0.77, 0.78, 0.74, 0.76,\n",
       "       0.76, 0.65, 0.79, 0.73, 0.81, 0.9 , 0.9 , 0.62, 0.82, 0.62, 0.57,\n",
       "       0.94, 0.68, 0.64, 0.82, 0.61, 0.66, 0.61, 0.52, 0.73, 0.74, 0.96,\n",
       "       0.66, 0.65, 0.84, 0.64, 0.59, 0.57, 0.71, 0.77, 0.96, 0.63, 0.8 ,\n",
       "       0.56, 0.79, 0.93, 0.75, 0.81, 0.87, 0.78, 0.56, 0.47, 0.71, 0.66,\n",
       "       0.75, 0.74, 0.78, 0.82, 0.44, 0.9 , 0.89, 0.69, 0.82, 0.34, 0.63,\n",
       "       0.7 , 0.81, 0.61, 0.93, 0.79, 0.64, 0.79, 0.73, 0.73, 0.61, 0.7 ,\n",
       "       0.93, 0.84, 0.64, 0.71, 0.72, 0.57, 0.65, 0.75, 0.77, 0.7 , 0.65,\n",
       "       0.59, 0.71, 0.57, 0.52, 0.76, 0.9 , 0.72, 0.56, 0.64, 0.76, 0.94,\n",
       "       0.71, 0.62, 0.85, 0.55, 0.81, 0.76, 0.9 , 0.42, 0.71, 0.85, 0.8 ,\n",
       "       0.71, 0.58, 0.77, 0.59, 0.69, 0.79, 0.9 , 0.62, 0.67, 0.94, 0.91,\n",
       "       0.86, 0.76, 0.47, 0.72, 0.83, 0.84, 0.84, 0.88, 0.73, 0.54, 0.93,\n",
       "       0.84, 0.87, 0.85, 0.44, 0.95, 0.78, 0.7 , 0.95, 0.49, 0.8 , 0.95,\n",
       "       0.74, 0.74, 0.47, 0.73, 0.93, 0.96, 0.88, 0.94, 0.69, 0.91, 0.9 ,\n",
       "       0.57, 0.97, 0.91, 0.71, 0.92, 0.69, 0.65, 0.52, 0.89, 0.46, 0.58,\n",
       "       0.68, 0.46, 0.67, 0.65, 0.62, 0.89, 0.61, 0.68, 0.71, 0.53, 0.92,\n",
       "       0.93, 0.67, 0.61, 0.79, 0.86, 0.66, 0.81, 0.68, 0.64, 0.78, 0.86,\n",
       "       0.87, 0.58, 0.58, 0.87, 0.63, 0.8 , 0.46, 0.62, 0.8 , 0.76, 0.77,\n",
       "       0.63, 0.72, 0.8 , 0.56, 0.64, 0.68, 0.92, 0.64, 0.72, 0.91, 0.65,\n",
       "       0.78, 0.61, 0.58, 0.68, 0.84, 0.5 , 0.8 , 0.77, 0.84, 0.89, 0.72,\n",
       "       0.72, 0.64, 0.8 , 0.36, 0.49, 0.72, 0.76, 0.68, 0.91, 0.54, 0.65,\n",
       "       0.61, 0.76, 0.54, 0.47, 0.96, 0.93, 0.95, 0.87, 0.79, 0.92, 0.72,\n",
       "       0.51, 0.71, 0.9 , 0.62, 0.62, 0.79, 0.72, 0.67, 0.76, 0.36, 0.54,\n",
       "       0.42, 0.92, 0.65, 0.78, 0.74, 0.82, 0.79, 0.79, 0.66, 0.67, 0.64,\n",
       "       0.96, 0.97, 0.73, 0.71, 0.79, 0.77, 0.62, 0.73, 0.7 , 0.67, 0.97,\n",
       "       0.94, 0.94, 0.83, 0.64, 0.77, 0.71, 0.96, 0.38, 0.92, 0.73, 0.71,\n",
       "       0.7 , 0.56, 0.46, 0.73, 0.78, 0.34, 0.93, 0.53, 0.69, 0.49, 0.78,\n",
       "       0.52, 0.92, 0.52, 0.76, 0.72, 0.42, 0.61, 0.84, 0.58, 0.46, 0.75,\n",
       "       0.72, 0.68, 0.94, 0.63, 0.97, 0.74, 0.91, 0.78, 0.89, 0.87, 0.79,\n",
       "       0.82, 0.94, 0.67, 0.51, 0.83, 0.93, 0.71, 0.82, 0.79, 0.81, 0.8 ,\n",
       "       0.73, 0.83, 0.73, 0.76, 0.45, 0.66, 0.62, 0.71, 0.93, 0.71, 0.94,\n",
       "       0.78, 0.94, 0.71, 0.87, 0.68, 0.48, 0.94, 0.66, 0.84, 0.64, 0.9 ,\n",
       "       0.94, 0.66, 0.56, 0.7 , 0.7 , 0.82, 0.45, 0.81, 0.78, 0.7 , 0.62,\n",
       "       0.86, 0.45, 0.89, 0.86])"
      ]
     },
     "execution_count": 15,
     "metadata": {},
     "output_type": "execute_result"
    }
   ],
   "source": [
    "y_train"
   ]
  },
  {
   "cell_type": "code",
   "execution_count": 16,
   "id": "a2a5b3e2",
   "metadata": {},
   "outputs": [
    {
     "data": {
      "text/plain": [
       "array([0.64, 0.85, 0.8 , 0.91, 0.68, 0.54, 0.54, 0.65, 0.52, 0.79, 0.65,\n",
       "       0.74, 0.64, 0.79, 0.89, 0.43, 0.81, 0.73, 0.8 , 0.58, 0.57, 0.74,\n",
       "       0.6 , 0.93, 0.88, 0.67, 0.7 , 0.57, 0.48, 0.64, 0.69, 0.47, 0.57,\n",
       "       0.87, 0.39, 0.53, 0.84, 0.89, 0.63, 0.7 , 0.72, 0.86, 0.91, 0.75,\n",
       "       0.74, 0.76, 0.96, 0.81, 0.6 , 0.62, 0.69, 0.68, 0.59, 0.8 , 0.71,\n",
       "       0.78, 0.69, 0.89, 0.67, 0.58, 0.44, 0.89, 0.53, 0.92, 0.66, 0.73,\n",
       "       0.52, 0.86, 0.54, 0.72, 0.92, 0.55, 0.75, 0.73, 0.85, 0.91, 0.75,\n",
       "       0.71, 0.54, 0.68, 0.62, 0.88, 0.59, 0.74, 0.8 , 0.63, 0.77, 0.65,\n",
       "       0.57, 0.7 , 0.76, 0.78, 0.71, 0.73, 0.73, 0.95, 0.64, 0.53, 0.48,\n",
       "       0.64])"
      ]
     },
     "execution_count": 16,
     "metadata": {},
     "output_type": "execute_result"
    }
   ],
   "source": [
    "y_test"
   ]
  },
  {
   "cell_type": "code",
   "execution_count": 17,
   "id": "93d082b6",
   "metadata": {},
   "outputs": [],
   "source": [
    "#from sklearn.linear_model import LinearRegression\n",
    "lm=LinearRegression()"
   ]
  },
  {
   "cell_type": "code",
   "execution_count": 18,
   "id": "29569271",
   "metadata": {},
   "outputs": [
    {
     "data": {
      "text/html": [
       "<style>#sk-container-id-1 {color: black;}#sk-container-id-1 pre{padding: 0;}#sk-container-id-1 div.sk-toggleable {background-color: white;}#sk-container-id-1 label.sk-toggleable__label {cursor: pointer;display: block;width: 100%;margin-bottom: 0;padding: 0.3em;box-sizing: border-box;text-align: center;}#sk-container-id-1 label.sk-toggleable__label-arrow:before {content: \"▸\";float: left;margin-right: 0.25em;color: #696969;}#sk-container-id-1 label.sk-toggleable__label-arrow:hover:before {color: black;}#sk-container-id-1 div.sk-estimator:hover label.sk-toggleable__label-arrow:before {color: black;}#sk-container-id-1 div.sk-toggleable__content {max-height: 0;max-width: 0;overflow: hidden;text-align: left;background-color: #f0f8ff;}#sk-container-id-1 div.sk-toggleable__content pre {margin: 0.2em;color: black;border-radius: 0.25em;background-color: #f0f8ff;}#sk-container-id-1 input.sk-toggleable__control:checked~div.sk-toggleable__content {max-height: 200px;max-width: 100%;overflow: auto;}#sk-container-id-1 input.sk-toggleable__control:checked~label.sk-toggleable__label-arrow:before {content: \"▾\";}#sk-container-id-1 div.sk-estimator input.sk-toggleable__control:checked~label.sk-toggleable__label {background-color: #d4ebff;}#sk-container-id-1 div.sk-label input.sk-toggleable__control:checked~label.sk-toggleable__label {background-color: #d4ebff;}#sk-container-id-1 input.sk-hidden--visually {border: 0;clip: rect(1px 1px 1px 1px);clip: rect(1px, 1px, 1px, 1px);height: 1px;margin: -1px;overflow: hidden;padding: 0;position: absolute;width: 1px;}#sk-container-id-1 div.sk-estimator {font-family: monospace;background-color: #f0f8ff;border: 1px dotted black;border-radius: 0.25em;box-sizing: border-box;margin-bottom: 0.5em;}#sk-container-id-1 div.sk-estimator:hover {background-color: #d4ebff;}#sk-container-id-1 div.sk-parallel-item::after {content: \"\";width: 100%;border-bottom: 1px solid gray;flex-grow: 1;}#sk-container-id-1 div.sk-label:hover label.sk-toggleable__label {background-color: #d4ebff;}#sk-container-id-1 div.sk-serial::before {content: \"\";position: absolute;border-left: 1px solid gray;box-sizing: border-box;top: 0;bottom: 0;left: 50%;z-index: 0;}#sk-container-id-1 div.sk-serial {display: flex;flex-direction: column;align-items: center;background-color: white;padding-right: 0.2em;padding-left: 0.2em;position: relative;}#sk-container-id-1 div.sk-item {position: relative;z-index: 1;}#sk-container-id-1 div.sk-parallel {display: flex;align-items: stretch;justify-content: center;background-color: white;position: relative;}#sk-container-id-1 div.sk-item::before, #sk-container-id-1 div.sk-parallel-item::before {content: \"\";position: absolute;border-left: 1px solid gray;box-sizing: border-box;top: 0;bottom: 0;left: 50%;z-index: -1;}#sk-container-id-1 div.sk-parallel-item {display: flex;flex-direction: column;z-index: 1;position: relative;background-color: white;}#sk-container-id-1 div.sk-parallel-item:first-child::after {align-self: flex-end;width: 50%;}#sk-container-id-1 div.sk-parallel-item:last-child::after {align-self: flex-start;width: 50%;}#sk-container-id-1 div.sk-parallel-item:only-child::after {width: 0;}#sk-container-id-1 div.sk-dashed-wrapped {border: 1px dashed gray;margin: 0 0.4em 0.5em 0.4em;box-sizing: border-box;padding-bottom: 0.4em;background-color: white;}#sk-container-id-1 div.sk-label label {font-family: monospace;font-weight: bold;display: inline-block;line-height: 1.2em;}#sk-container-id-1 div.sk-label-container {text-align: center;}#sk-container-id-1 div.sk-container {/* jupyter's `normalize.less` sets `[hidden] { display: none; }` but bootstrap.min.css set `[hidden] { display: none !important; }` so we also need the `!important` here to be able to override the default hidden behavior on the sphinx rendered scikit-learn.org. See: https://github.com/scikit-learn/scikit-learn/issues/21755 */display: inline-block !important;position: relative;}#sk-container-id-1 div.sk-text-repr-fallback {display: none;}</style><div id=\"sk-container-id-1\" class=\"sk-top-container\"><div class=\"sk-text-repr-fallback\"><pre>LinearRegression()</pre><b>In a Jupyter environment, please rerun this cell to show the HTML representation or trust the notebook. <br />On GitHub, the HTML representation is unable to render, please try loading this page with nbviewer.org.</b></div><div class=\"sk-container\" hidden><div class=\"sk-item\"><div class=\"sk-estimator sk-toggleable\"><input class=\"sk-toggleable__control sk-hidden--visually\" id=\"sk-estimator-id-1\" type=\"checkbox\" checked><label for=\"sk-estimator-id-1\" class=\"sk-toggleable__label sk-toggleable__label-arrow\">LinearRegression</label><div class=\"sk-toggleable__content\"><pre>LinearRegression()</pre></div></div></div></div></div>"
      ],
      "text/plain": [
       "LinearRegression()"
      ]
     },
     "execution_count": 18,
     "metadata": {},
     "output_type": "execute_result"
    }
   ],
   "source": [
    "lm.fit(x_train,y_train)"
   ]
  },
  {
   "cell_type": "code",
   "execution_count": 19,
   "id": "be869e50",
   "metadata": {},
   "outputs": [],
   "source": [
    "predictvalue=lm.predict(x_test)"
   ]
  },
  {
   "cell_type": "code",
   "execution_count": 20,
   "id": "5df61ced",
   "metadata": {},
   "outputs": [
    {
     "data": {
      "text/plain": [
       "array([0.65050856, 0.85252175, 0.76957053, 0.87829988, 0.58206979,\n",
       "       0.6552612 , 0.53357958, 0.70272797, 0.52657039, 0.76570362,\n",
       "       0.623233  , 0.6995743 , 0.63351197, 0.76572226, 0.8849045 ,\n",
       "       0.51070449, 0.81941337, 0.65963365, 0.78452942, 0.53615425,\n",
       "       0.51768259, 0.71585624, 0.52283472, 0.92111458, 0.82747922,\n",
       "       0.71537508, 0.71551917, 0.51805718, 0.59019195, 0.60348318,\n",
       "       0.74199981, 0.48840666, 0.65971174, 0.83728292, 0.57596654,\n",
       "       0.58025817, 0.84084965, 0.86233864, 0.59504654, 0.67091667,\n",
       "       0.68251819, 0.90088547, 0.86244821, 0.73600207, 0.76753053,\n",
       "       0.80223082, 0.96999774, 0.84562213, 0.65216892, 0.66735912,\n",
       "       0.63964977, 0.62392942, 0.62108114, 0.7943316 , 0.70601061,\n",
       "       0.8527861 , 0.52594439, 0.85720483, 0.60611606, 0.64556952,\n",
       "       0.47576058, 0.90521329, 0.62809572, 0.94168415, 0.7337594 ,\n",
       "       0.62291623, 0.73073214, 0.83839568, 0.52289209, 0.77439399,\n",
       "       0.89302141, 0.80249144, 0.68429419, 0.62917516, 0.78109592,\n",
       "       0.9195292 , 0.7445207 , 0.72169365, 0.5649512 , 0.67462354,\n",
       "       0.60332868, 0.85563343, 0.55885239, 0.68250633, 0.76342885,\n",
       "       0.55853851, 0.81021428, 0.62788277, 0.46220294, 0.67635519,\n",
       "       0.7314854 , 0.77715658, 0.64403712, 0.69598064, 0.63570739,\n",
       "       0.94231675, 0.55870036, 0.54173885, 0.60971963, 0.62204492])"
      ]
     },
     "execution_count": 20,
     "metadata": {},
     "output_type": "execute_result"
    }
   ],
   "source": [
    "predictvalue"
   ]
  },
  {
   "cell_type": "code",
   "execution_count": 21,
   "id": "55884414",
   "metadata": {},
   "outputs": [],
   "source": [
    "compare=pd.DataFrame(predictvalue,columns=['Predictvalue'])\n",
    "compare[\"AVLDATA\"]=y_test"
   ]
  },
  {
   "cell_type": "code",
   "execution_count": 22,
   "id": "08fb3469",
   "metadata": {},
   "outputs": [
    {
     "data": {
      "text/html": [
       "<div>\n",
       "<style scoped>\n",
       "    .dataframe tbody tr th:only-of-type {\n",
       "        vertical-align: middle;\n",
       "    }\n",
       "\n",
       "    .dataframe tbody tr th {\n",
       "        vertical-align: top;\n",
       "    }\n",
       "\n",
       "    .dataframe thead th {\n",
       "        text-align: right;\n",
       "    }\n",
       "</style>\n",
       "<table border=\"1\" class=\"dataframe\">\n",
       "  <thead>\n",
       "    <tr style=\"text-align: right;\">\n",
       "      <th></th>\n",
       "      <th>Predictvalue</th>\n",
       "      <th>AVLDATA</th>\n",
       "    </tr>\n",
       "  </thead>\n",
       "  <tbody>\n",
       "    <tr>\n",
       "      <th>0</th>\n",
       "      <td>0.650509</td>\n",
       "      <td>0.64</td>\n",
       "    </tr>\n",
       "    <tr>\n",
       "      <th>1</th>\n",
       "      <td>0.852522</td>\n",
       "      <td>0.85</td>\n",
       "    </tr>\n",
       "    <tr>\n",
       "      <th>2</th>\n",
       "      <td>0.769571</td>\n",
       "      <td>0.80</td>\n",
       "    </tr>\n",
       "    <tr>\n",
       "      <th>3</th>\n",
       "      <td>0.878300</td>\n",
       "      <td>0.91</td>\n",
       "    </tr>\n",
       "    <tr>\n",
       "      <th>4</th>\n",
       "      <td>0.582070</td>\n",
       "      <td>0.68</td>\n",
       "    </tr>\n",
       "    <tr>\n",
       "      <th>...</th>\n",
       "      <td>...</td>\n",
       "      <td>...</td>\n",
       "    </tr>\n",
       "    <tr>\n",
       "      <th>95</th>\n",
       "      <td>0.942317</td>\n",
       "      <td>0.95</td>\n",
       "    </tr>\n",
       "    <tr>\n",
       "      <th>96</th>\n",
       "      <td>0.558700</td>\n",
       "      <td>0.64</td>\n",
       "    </tr>\n",
       "    <tr>\n",
       "      <th>97</th>\n",
       "      <td>0.541739</td>\n",
       "      <td>0.53</td>\n",
       "    </tr>\n",
       "    <tr>\n",
       "      <th>98</th>\n",
       "      <td>0.609720</td>\n",
       "      <td>0.48</td>\n",
       "    </tr>\n",
       "    <tr>\n",
       "      <th>99</th>\n",
       "      <td>0.622045</td>\n",
       "      <td>0.64</td>\n",
       "    </tr>\n",
       "  </tbody>\n",
       "</table>\n",
       "<p>100 rows × 2 columns</p>\n",
       "</div>"
      ],
      "text/plain": [
       "    Predictvalue  AVLDATA\n",
       "0       0.650509     0.64\n",
       "1       0.852522     0.85\n",
       "2       0.769571     0.80\n",
       "3       0.878300     0.91\n",
       "4       0.582070     0.68\n",
       "..           ...      ...\n",
       "95      0.942317     0.95\n",
       "96      0.558700     0.64\n",
       "97      0.541739     0.53\n",
       "98      0.609720     0.48\n",
       "99      0.622045     0.64\n",
       "\n",
       "[100 rows x 2 columns]"
      ]
     },
     "execution_count": 22,
     "metadata": {},
     "output_type": "execute_result"
    }
   ],
   "source": [
    "compare"
   ]
  },
  {
   "cell_type": "code",
   "execution_count": 23,
   "id": "31f98717",
   "metadata": {},
   "outputs": [],
   "source": [
    "from sklearn.metrics import mean_squared_error,mean_absolute_error,r2_score"
   ]
  },
  {
   "cell_type": "code",
   "execution_count": 24,
   "id": "800be838",
   "metadata": {},
   "outputs": [
    {
     "data": {
      "text/plain": [
       "0.004168707909325073"
      ]
     },
     "execution_count": 24,
     "metadata": {},
     "output_type": "execute_result"
    }
   ],
   "source": [
    "mean_squared_error(y_test,predictvalue)"
   ]
  },
  {
   "cell_type": "code",
   "execution_count": 25,
   "id": "59c35e57",
   "metadata": {},
   "outputs": [
    {
     "data": {
      "text/plain": [
       "0.04731368011169069"
      ]
     },
     "execution_count": 25,
     "metadata": {},
     "output_type": "execute_result"
    }
   ],
   "source": [
    "mean_absolute_error(y_test,predictvalue)"
   ]
  },
  {
   "cell_type": "code",
   "execution_count": 26,
   "id": "b7f6ea77",
   "metadata": {},
   "outputs": [
    {
     "data": {
      "text/plain": [
       "0.7613073242202109"
      ]
     },
     "execution_count": 26,
     "metadata": {},
     "output_type": "execute_result"
    }
   ],
   "source": [
    "r2_score(y_test,predictvalue)"
   ]
  },
  {
   "cell_type": "code",
   "execution_count": 27,
   "id": "b8bfc4bb",
   "metadata": {},
   "outputs": [
    {
     "data": {
      "text/plain": [
       "[<matplotlib.lines.Line2D at 0x2744fa7a280>]"
      ]
     },
     "execution_count": 27,
     "metadata": {},
     "output_type": "execute_result"
    },
    {
     "data": {
      "image/png": "[encoded data removed]",
      "text/plain": [
       "<Figure size 640x480 with 1 Axes>"
      ]
     },
     "metadata": {},
     "output_type": "display_data"
    }
   ],
   "source": [
    "py.plot(y_test,color='black')\n",
    "py.plot(predictvalue,color='orange')"
   ]
  }
 ],
 "metadata": {
  "kernelspec": {
   "display_name": "Python 3 (ipykernel)",
   "language": "python",
   "name": "python3"
  },
  "language_info": {
   "codemirror_mode": {
    "name": "ipython",
    "version": 3
   },
   "file_extension": ".py",
   "mimetype": "text/x-python",
   "name": "python",
   "nbconvert_exporter": "python",
   "pygments_lexer": "ipython3",
   "version": "3.9.18"
  }
 },
 "nbformat": 4,
 "nbformat_minor": 5
}
