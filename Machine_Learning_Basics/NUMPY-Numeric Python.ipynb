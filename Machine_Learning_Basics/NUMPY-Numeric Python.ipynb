{
 "cells": [
  {
   "cell_type": "code",
   "execution_count": 1,
   "id": "3a5968b2",
   "metadata": {},
   "outputs": [],
   "source": [
    "import numpy as np"
   ]
  },
  {
   "cell_type": "code",
   "execution_count": 2,
   "id": "f71c4d34",
   "metadata": {},
   "outputs": [],
   "source": [
    "a=np.array([(1,2,3),(6,7,8),(4,5,9)])"
   ]
  },
  {
   "cell_type": "code",
   "execution_count": 3,
   "id": "6e58f18c",
   "metadata": {},
   "outputs": [
    {
     "name": "stdout",
     "output_type": "stream",
     "text": [
      "[[1 2 3]\n",
      " [6 7 8]\n",
      " [4 5 9]]\n"
     ]
    },
    {
     "data": {
      "text/plain": [
       "numpy.ndarray"
      ]
     },
     "execution_count": 3,
     "metadata": {},
     "output_type": "execute_result"
    }
   ],
   "source": [
    "print(a)\n",
    "type(a)"
   ]
  },
  {
   "cell_type": "code",
   "execution_count": 4,
   "id": "e9432931",
   "metadata": {},
   "outputs": [
    {
     "name": "stdout",
     "output_type": "stream",
     "text": [
      "[[1 6 4]\n",
      " [2 7 5]\n",
      " [3 8 9]]\n"
     ]
    }
   ],
   "source": [
    "t=np.transpose(a)\n",
    "print(t)"
   ]
  },
  {
   "cell_type": "code",
   "execution_count": 5,
   "id": "582b7d2c",
   "metadata": {},
   "outputs": [
    {
     "data": {
      "text/plain": [
       "array([1, 2, 3, 6, 7, 8, 4, 5, 9])"
      ]
     },
     "execution_count": 5,
     "metadata": {},
     "output_type": "execute_result"
    }
   ],
   "source": [
    "a.ravel()"
   ]
  },
  {
   "cell_type": "code",
   "execution_count": 6,
   "id": "fb6ab66d",
   "metadata": {},
   "outputs": [],
   "source": [
    "zero=np.zeros((2,2))"
   ]
  },
  {
   "cell_type": "code",
   "execution_count": 7,
   "id": "2fe40995",
   "metadata": {},
   "outputs": [
    {
     "name": "stdout",
     "output_type": "stream",
     "text": [
      "[[0. 0.]\n",
      " [0. 0.]]\n"
     ]
    }
   ],
   "source": [
    "print(zero)"
   ]
  },
  {
   "cell_type": "code",
   "execution_count": 8,
   "id": "c97d6d1b",
   "metadata": {},
   "outputs": [
    {
     "data": {
      "text/plain": [
       "array([[1., 1.],\n",
       "       [1., 1.]])"
      ]
     },
     "execution_count": 8,
     "metadata": {},
     "output_type": "execute_result"
    }
   ],
   "source": [
    "one=np.ones((2,2))\n",
    "one"
   ]
  },
  {
   "cell_type": "code",
   "execution_count": 9,
   "id": "b814d149",
   "metadata": {
    "scrolled": true
   },
   "outputs": [
    {
     "data": {
      "text/plain": [
       "array([0., 0., 0., 0., 1., 1., 1., 1.])"
      ]
     },
     "execution_count": 9,
     "metadata": {},
     "output_type": "execute_result"
    }
   ],
   "source": [
    "#Append\n",
    "np.append(zero,one)"
   ]
  },
  {
   "cell_type": "code",
   "execution_count": 10,
   "id": "a97e1930",
   "metadata": {},
   "outputs": [],
   "source": [
    "arr=np.array([(1,2,3,4,5,6,7)])"
   ]
  },
  {
   "cell_type": "code",
   "execution_count": 11,
   "id": "e26efa99",
   "metadata": {},
   "outputs": [
    {
     "data": {
      "text/plain": [
       "array([1, 2, 4, 3, 4, 5, 6, 7])"
      ]
     },
     "execution_count": 11,
     "metadata": {},
     "output_type": "execute_result"
    }
   ],
   "source": [
    "#Insert\n",
    "ins=np.insert(arr,2,4)\n",
    "ins"
   ]
  },
  {
   "cell_type": "code",
   "execution_count": 12,
   "id": "fe957c6f",
   "metadata": {},
   "outputs": [
    {
     "data": {
      "text/plain": [
       "array([1, 2, 3, 4, 5, 6, 7, 1, 2, 3, 4, 5, 6, 7])"
      ]
     },
     "execution_count": 12,
     "metadata": {},
     "output_type": "execute_result"
    }
   ],
   "source": [
    "#Concatenate\n",
    "np.concatenate((arr,arr),axis=None)"
   ]
  },
  {
   "cell_type": "markdown",
   "id": "4c39a01c",
   "metadata": {},
   "source": [
    "## Stack "
   ]
  },
  {
   "cell_type": "code",
   "execution_count": 13,
   "id": "422ed0ef",
   "metadata": {},
   "outputs": [
    {
     "data": {
      "text/plain": [
       "array([[1, 2, 3, 1, 2, 3],\n",
       "       [6, 7, 8, 6, 7, 8],\n",
       "       [4, 5, 9, 4, 5, 9]])"
      ]
     },
     "execution_count": 13,
     "metadata": {},
     "output_type": "execute_result"
    }
   ],
   "source": [
    "np.hstack((a,a))"
   ]
  },
  {
   "cell_type": "code",
   "execution_count": 14,
   "id": "761c79b9",
   "metadata": {},
   "outputs": [
    {
     "data": {
      "text/plain": [
       "array([[1, 2, 3],\n",
       "       [6, 7, 8],\n",
       "       [4, 5, 9],\n",
       "       [1, 2, 3],\n",
       "       [6, 7, 8],\n",
       "       [4, 5, 9]])"
      ]
     },
     "execution_count": 14,
     "metadata": {},
     "output_type": "execute_result"
    }
   ],
   "source": [
    "np.vstack((a,a))"
   ]
  },
  {
   "cell_type": "code",
   "execution_count": 15,
   "id": "3a8608c4",
   "metadata": {},
   "outputs": [
    {
     "data": {
      "text/plain": [
       "[array([[1, 2, 3]]), array([[6, 7, 8]]), array([[4, 5, 9]])]"
      ]
     },
     "execution_count": 15,
     "metadata": {},
     "output_type": "execute_result"
    }
   ],
   "source": [
    "#Split\n",
    "np.vsplit(a,3)"
   ]
  },
  {
   "cell_type": "code",
   "execution_count": 16,
   "id": "53abd132",
   "metadata": {},
   "outputs": [
    {
     "data": {
      "text/plain": [
       "array([[0.0e+000, 4.9e-324],\n",
       "       [9.9e-324, 1.5e-323]])"
      ]
     },
     "execution_count": 16,
     "metadata": {},
     "output_type": "execute_result"
    }
   ],
   "source": [
    "#Empty matrix\n",
    "np.empty((2,2))"
   ]
  },
  {
   "cell_type": "code",
   "execution_count": 17,
   "id": "f6b527bf",
   "metadata": {
    "scrolled": true
   },
   "outputs": [
    {
     "data": {
      "text/plain": [
       "array([[0.13338864, 0.89632909, 0.20512297, 0.1792928 , 0.13128516,\n",
       "        0.06139903, 0.40982282, 0.32208531, 0.00983295, 0.36752998,\n",
       "        0.94576219, 0.70541391, 0.71172986, 0.77222223, 0.18835675,\n",
       "        0.50564886, 0.17397149, 0.88335338, 0.98592112, 0.63139154],\n",
       "       [0.96340849, 0.20513682, 0.75606802, 0.66215713, 0.30145895,\n",
       "        0.7163545 , 0.35930206, 0.78193117, 0.24079796, 0.00699464,\n",
       "        0.39571595, 0.55453735, 0.19976504, 0.04848519, 0.41709589,\n",
       "        0.30213315, 0.5292486 , 0.03019046, 0.19756519, 0.55813149],\n",
       "       [0.51571962, 0.72058524, 0.60159969, 0.74326754, 0.01765363,\n",
       "        0.10637691, 0.4984983 , 0.8223149 , 0.55543164, 0.31886463,\n",
       "        0.84249306, 0.35024366, 0.36974257, 0.47909836, 0.43283775,\n",
       "        0.38969808, 0.63450277, 0.86202936, 0.06021514, 0.539274  ],\n",
       "       [0.74888923, 0.33250447, 0.93373024, 0.78492232, 0.26068367,\n",
       "        0.32026517, 0.69951408, 0.21912681, 0.02504457, 0.42609689,\n",
       "        0.57531038, 0.90410574, 0.3317947 , 0.23209048, 0.47753854,\n",
       "        0.00962283, 0.020548  , 0.54680056, 0.1357788 , 0.65019758],\n",
       "       [0.60698153, 0.65234973, 0.18761207, 0.08371659, 0.19285052,\n",
       "        0.53272061, 0.58392447, 0.54252189, 0.43587108, 0.44176474,\n",
       "        0.97772612, 0.96382179, 0.54921295, 0.01190424, 0.28237742,\n",
       "        0.44729448, 0.68181968, 0.08091109, 0.61708959, 0.16444616],\n",
       "       [0.42325428, 0.10836857, 0.72831186, 0.98442578, 0.51806134,\n",
       "        0.09087035, 0.93671041, 0.89611157, 0.16599828, 0.15358583,\n",
       "        0.57605332, 0.22984069, 0.16874769, 0.94539553, 0.05876436,\n",
       "        0.25921008, 0.21260497, 0.3962254 , 0.74649907, 0.98403137],\n",
       "       [0.61471951, 0.04532052, 0.00930015, 0.85598776, 0.13541601,\n",
       "        0.00166528, 0.46759753, 0.48671784, 0.02761459, 0.16723683,\n",
       "        0.78886851, 0.95905359, 0.3197288 , 0.8080727 , 0.35815672,\n",
       "        0.47286196, 0.96155861, 0.90465145, 0.78545359, 0.61425101],\n",
       "       [0.40486921, 0.33321591, 0.99682939, 0.98073958, 0.37933104,\n",
       "        0.14333382, 0.26592714, 0.24317818, 0.19108403, 0.86927857,\n",
       "        0.11849567, 0.48255132, 0.96902049, 0.89863168, 0.948595  ,\n",
       "        0.15233573, 0.10382185, 0.76026698, 0.5637835 , 0.28785892],\n",
       "       [0.16810549, 0.2007924 , 0.27469462, 0.06492457, 0.52601006,\n",
       "        0.83113685, 0.80453058, 0.65647683, 0.85571295, 0.84257754,\n",
       "        0.53906511, 0.36626005, 0.32011093, 0.52708936, 0.38530817,\n",
       "        0.06139606, 0.14208996, 0.5230128 , 0.55682693, 0.46659835],\n",
       "       [0.28975798, 0.70931884, 0.90358532, 0.37660447, 0.09779   ,\n",
       "        0.73824222, 0.95127787, 0.8625433 , 0.0300228 , 0.82715807,\n",
       "        0.94708021, 0.30079497, 0.63707666, 0.46529223, 0.71335229,\n",
       "        0.75620582, 0.54162769, 0.02794382, 0.52134682, 0.51148467]])"
      ]
     },
     "execution_count": 17,
     "metadata": {},
     "output_type": "execute_result"
    }
   ],
   "source": [
    "#Random number\n",
    "rand=np.random.random((10,20))\n",
    "rand"
   ]
  }
 ],
 "metadata": {
  "kernelspec": {
   "display_name": "Python 3 (ipykernel)",
   "language": "python",
   "name": "python3"
  },
  "language_info": {
   "codemirror_mode": {
    "name": "ipython",
    "version": 3
   },
   "file_extension": ".py",
   "mimetype": "text/x-python",
   "name": "python",
   "nbconvert_exporter": "python",
   "pygments_lexer": "ipython3",
   "version": "3.9.17"
  }
 },
 "nbformat": 4,
 "nbformat_minor": 5
}
