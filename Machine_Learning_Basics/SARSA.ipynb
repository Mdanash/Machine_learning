{
  "nbformat": 4,
  "nbformat_minor": 0,
  "metadata": {
    "colab": {
      "provenance": []
    },
    "kernelspec": {
      "name": "python3",
      "display_name": "Python 3"
    },
    "language_info": {
      "name": "python"
    }
  },
  "cells": [
    {
      "cell_type": "code",
      "source": [
        "import numpy as np\n",
        "import gym"
      ],
      "metadata": {
        "id": "plSAxcFMWBxD"
      },
      "execution_count": 1,
      "outputs": []
    },
    {
      "cell_type": "code",
      "source": [
        "def eps_greedy(Q,s,eps=0.1):\n",
        "  if np.random.uniform(0,1) < eps:\n",
        "    return np.random.randint(Q.shape[1])\n",
        "  else:\n",
        "    return greedy(Q,s)"
      ],
      "metadata": {
        "id": "2HxbAXdWWJ5B",
        "colab": {
          "base_uri": "https://localhost:8080/"
        },
        "outputId": "70c5f618-a53e-4fae-b6f7-a3e17697e2a3"
      },
      "execution_count": 2,
      "outputs": [
        {
          "output_type": "stream",
          "name": "stderr",
          "text": [
            "/usr/local/lib/python3.10/dist-packages/ipykernel/ipkernel.py:283: DeprecationWarning: `should_run_async` will not call `transform_cell` automatically in the future. Please pass the result to `transformed_cell` argument and any exception that happen during thetransform in `preprocessing_exc_tuple` in IPython 7.17 and above.\n",
            "  and should_run_async(code)\n"
          ]
        }
      ]
    },
    {
      "cell_type": "markdown",
      "source": [
        "# **Greedy Policy**\n",
        "\n",
        "\n",
        "> **Returning to maximum state value**\n",
        "\n",
        "\n",
        "\n",
        "\n",
        "\n",
        "\n"
      ],
      "metadata": {
        "id": "5AWnCFaadTKS"
      }
    },
    {
      "cell_type": "code",
      "source": [
        "def greedy(Q,s):\n",
        "  return np.argmax(Q[s])"
      ],
      "metadata": {
        "id": "6KRo25b1Xx2j"
      },
      "execution_count": 3,
      "outputs": []
    },
    {
      "cell_type": "markdown",
      "source": [
        "## **Policy Testing**"
      ],
      "metadata": {
        "id": "nYWBixnUYcvy"
      }
    },
    {
      "cell_type": "code",
      "source": [
        "def run_episodes(env,Q,num_episodes=100,to_print=False):\n",
        "  tot_rew=[]\n",
        "  state=env.reset()\n",
        "\n",
        "  for _ in range(num_episodes):\n",
        "    done=False\n",
        "    game_rew=0\n",
        "\n",
        "    while not done:\n",
        "      next_state,rew,done,_=env.step(greedy(Q,state))\n",
        "\n",
        "      state=next_state\n",
        "      game_rew += rew\n",
        "      if done:\n",
        "        state=env.reset()\n",
        "        tot_rew.append(game_rew)\n",
        "    if to_print:\n",
        "        print('Mean score: %3f of %i games!'%(np.mean(tot_rew),num_episodes))\n",
        "\n",
        "    return np.mean(tot_rew)"
      ],
      "metadata": {
        "id": "pNn9EQuaYCSJ"
      },
      "execution_count": 4,
      "outputs": []
    },
    {
      "cell_type": "markdown",
      "source": [
        "# SARSA\n",
        "\n",
        "\n",
        "*  Initialize Q matrix\n",
        "*  Decay the epsilon untill it reaches the threshold\n",
        "*  Choose next action\n",
        "*   SARSA update\n",
        "\n",
        "\n",
        "*  Testing the policy\n",
        "\n",
        "\n",
        "\n"
      ],
      "metadata": {
        "id": "nSRNH51sgb2i"
      }
    },
    {
      "cell_type": "code",
      "source": [
        "def SARSA(env,lr=0.01,num_episodes=10000,eps=0.3,gamma=0.95,eps_decay=0.00005):\n",
        "  nA = env.action_space.n\n",
        "  nS= env.observation_space.n\n",
        "\n",
        "  Q=np.zeros((nS,nA))\n",
        "  games_rewards=[]\n",
        "  test_rewards=[]\n",
        "\n",
        "  for ep in range(num_episodes):\n",
        "    state= env.reset()\n",
        "    done= False\n",
        "    tot_rew= 0\n",
        "\n",
        "    if eps>0.01:\n",
        "        eps -= eps_decay\n",
        "\n",
        "    action= eps_greedy(Q,state,eps)\n",
        "\n",
        "    while not done:\n",
        "      next_state,rew,done,_ =env.step(action)\n",
        "\n",
        "      next_action = eps_greedy(Q,next_state,eps)\n",
        "      #BellMan Equation\n",
        "      Q[state][action] = Q[state][action] + lr*(rew+gamma*Q[next_state][next_action]-Q[state][action])\n",
        "\n",
        "      state = next_state\n",
        "      action = next_action\n",
        "      tot_rew += rew\n",
        "      if done:\n",
        "          games_rewards.append(tot_rew)\n",
        "\n",
        "    if (ep%300) == 0:\n",
        "      test_rew=run_episodes(env,Q,1000)\n",
        "      print(\"Episode:{:5d} Eps:{:2.4f} Rew:{:2.4f}\".format(ep,eps,test_rew))\n",
        "      test_rewards.append(test_rew)\n",
        "\n",
        "  return Q\n",
        "\n"
      ],
      "metadata": {
        "id": "-A_0WpU2b8GN"
      },
      "execution_count": 5,
      "outputs": []
    },
    {
      "cell_type": "markdown",
      "source": [
        "# **SARSA-Taxi v3 Data**\n",
        "\n"
      ],
      "metadata": {
        "id": "HUbdQSEyMpYB"
      }
    },
    {
      "cell_type": "code",
      "source": [
        "if __name__=='__main__':\n",
        "  env=gym.make('Taxi-v3')\n",
        "  print('SARSA')\n",
        "  Q_sarsa = SARSA(env, lr=0.1, num_episodes=5000, eps=0.4, gamma=0.95, eps_decay=0.001)"
      ],
      "metadata": {
        "colab": {
          "base_uri": "https://localhost:8080/"
        },
        "id": "__ZiH6JrMKJ4",
        "outputId": "32e04c88-d5fa-4fe7-daea-786363d323f8"
      },
      "execution_count": 6,
      "outputs": [
        {
          "output_type": "stream",
          "name": "stderr",
          "text": [
            "/usr/local/lib/python3.10/dist-packages/gym/core.py:317: DeprecationWarning: \u001b[33mWARN: Initializing wrapper in old step API which returns one bool instead of two. It is recommended to set `new_step_api=True` to use new step API. This will be the default behaviour in future.\u001b[0m\n",
            "  deprecation(\n",
            "/usr/local/lib/python3.10/dist-packages/gym/wrappers/step_api_compatibility.py:39: DeprecationWarning: \u001b[33mWARN: Initializing environment in old step API which returns one bool instead of two. It is recommended to set `new_step_api=True` to use new step API. This will be the default behaviour in future.\u001b[0m\n",
            "  deprecation(\n"
          ]
        },
        {
          "output_type": "stream",
          "name": "stdout",
          "text": [
            "SARSA\n",
            "Episode:    0 Eps:0.3990 Rew:-200.0000\n",
            "Episode:  300 Eps:0.0990 Rew:-200.0000\n",
            "Episode:  600 Eps:0.0100 Rew:-200.0000\n",
            "Episode:  900 Eps:0.0100 Rew:-200.0000\n",
            "Episode: 1200 Eps:0.0100 Rew:10.0000\n",
            "Episode: 1500 Eps:0.0100 Rew:-200.0000\n",
            "Episode: 1800 Eps:0.0100 Rew:8.0000\n",
            "Episode: 2100 Eps:0.0100 Rew:6.0000\n",
            "Episode: 2400 Eps:0.0100 Rew:6.0000\n",
            "Episode: 2700 Eps:0.0100 Rew:7.0000\n",
            "Episode: 3000 Eps:0.0100 Rew:11.0000\n",
            "Episode: 3300 Eps:0.0100 Rew:9.0000\n",
            "Episode: 3600 Eps:0.0100 Rew:5.0000\n",
            "Episode: 3900 Eps:0.0100 Rew:5.0000\n",
            "Episode: 4200 Eps:0.0100 Rew:8.0000\n",
            "Episode: 4500 Eps:0.0100 Rew:8.0000\n",
            "Episode: 4800 Eps:0.0100 Rew:7.0000\n"
          ]
        }
      ]
    },
    {
      "cell_type": "markdown",
      "source": [
        "# **Q-Learning**\n",
        "\n",
        "*  Initialize Q matrix\n",
        "*  Decay the epsilon untill it reaches the threshold\n",
        "*  Choose next action\n",
        "*  SARSA update\n",
        "*  Testing the policy\n"
      ],
      "metadata": {
        "id": "e8LfffE9WQcr"
      }
    },
    {
      "cell_type": "code",
      "source": [
        "def Q_learning(env, lr=0.01, num_episodes=10000, eps=0.3, gamma=0.95, eps_decay=0.00005):\n",
        "    nA = env.action_space.n\n",
        "    nS = env.observation_space.n\n",
        "\n",
        "    Q = np.zeros((nS, nA))\n",
        "    games_rewards = []\n",
        "    test_rewards = []\n",
        "\n",
        "    for ep in range(num_episodes):\n",
        "        state = env.reset()\n",
        "        done = False\n",
        "        tot_rew = 0\n",
        "\n",
        "\n",
        "        if eps > 0.01:\n",
        "            eps -= eps_decay\n",
        "\n",
        "\n",
        "        while not done:\n",
        "\n",
        "            action = eps_greedy(Q, state, eps)\n",
        "\n",
        "            next_state, rew, done, _ = env.step(action)\n",
        "\n",
        "\n",
        "            Q[state][action] = Q[state][action] + lr*(rew + gamma*np.max(Q[next_state]) - Q[state][action])\n",
        "\n",
        "            state = next_state\n",
        "            tot_rew += rew\n",
        "            if done:\n",
        "                games_rewards.append(tot_rew)\n",
        "\n",
        "\n",
        "        if (ep % 300) == 0:\n",
        "            test_rew = run_episodes(env, Q, 1000)\n",
        "            print(\"Episode:{:5d}  Eps:{:2.4f}  Rew:{:2.4f}\".format(ep, eps, test_rew))\n",
        "            test_rewards.append(test_rew)\n",
        "\n",
        "    return Q\n"
      ],
      "metadata": {
        "id": "RgNsNYlQTqfP"
      },
      "execution_count": 7,
      "outputs": []
    },
    {
      "cell_type": "code",
      "source": [
        "if __name__ == '__main__':\n",
        "    env = gym.make('Taxi-v3')\n",
        "    print('Q-Learning')\n",
        "\n",
        "    Q_qlearning = Q_learning(env, lr=.1, num_episodes=5000, eps=0.4, gamma=0.95, eps_decay=0.001)"
      ],
      "metadata": {
        "colab": {
          "base_uri": "https://localhost:8080/"
        },
        "id": "Q0IU88A2aJq-",
        "outputId": "affc1417-1b7e-4bd8-925d-2801c2ed6c2b"
      },
      "execution_count": 8,
      "outputs": [
        {
          "output_type": "stream",
          "name": "stdout",
          "text": [
            "Q-Learning\n",
            "Episode:    0  Eps:0.3990  Rew:-200.0000\n",
            "Episode:  300  Eps:0.0990  Rew:-200.0000\n",
            "Episode:  600  Eps:0.0100  Rew:13.0000\n",
            "Episode:  900  Eps:0.0100  Rew:-200.0000\n",
            "Episode: 1200  Eps:0.0100  Rew:11.0000\n",
            "Episode: 1500  Eps:0.0100  Rew:8.0000\n",
            "Episode: 1800  Eps:0.0100  Rew:15.0000\n",
            "Episode: 2100  Eps:0.0100  Rew:-200.0000\n",
            "Episode: 2400  Eps:0.0100  Rew:11.0000\n",
            "Episode: 2700  Eps:0.0100  Rew:11.0000\n",
            "Episode: 3000  Eps:0.0100  Rew:13.0000\n",
            "Episode: 3300  Eps:0.0100  Rew:11.0000\n",
            "Episode: 3600  Eps:0.0100  Rew:8.0000\n",
            "Episode: 3900  Eps:0.0100  Rew:7.0000\n",
            "Episode: 4200  Eps:0.0100  Rew:9.0000\n",
            "Episode: 4500  Eps:0.0100  Rew:11.0000\n",
            "Episode: 4800  Eps:0.0100  Rew:5.0000\n"
          ]
        }
      ]
    }
  ]
}