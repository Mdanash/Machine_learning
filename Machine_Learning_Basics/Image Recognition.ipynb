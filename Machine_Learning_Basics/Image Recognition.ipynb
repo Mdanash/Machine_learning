{
 "cells": [
  {
   "cell_type": "markdown",
   "id": "c27c2843",
   "metadata": {},
   "source": [
    "###  Image Classification and Recognition using PCA and SVM"
   ]
  },
  {
   "cell_type": "code",
   "execution_count": 1,
   "id": "1ed222fa",
   "metadata": {},
   "outputs": [],
   "source": [
    "import os\n",
    "import warnings\n",
    "warnings.simplefilter('ignore')"
   ]
  },
  {
   "cell_type": "code",
   "execution_count": 2,
   "id": "57bb82d5",
   "metadata": {},
   "outputs": [],
   "source": [
    "import numpy as np\n",
    "import pandas as pd\n",
    "import matplotlib.pyplot as py\n",
    "\n",
    "%matplotlib inline"
   ]
  },
  {
   "cell_type": "code",
   "execution_count": 3,
   "id": "d47083a6",
   "metadata": {},
   "outputs": [],
   "source": [
    "#pip install scikit-image"
   ]
  },
  {
   "cell_type": "code",
   "execution_count": 4,
   "id": "e673b59c",
   "metadata": {},
   "outputs": [],
   "source": [
    "from skimage.io import imread,imshow\n",
    "from skimage.transform import resize\n",
    "from skimage.color import rgb2gray"
   ]
  },
  {
   "cell_type": "code",
   "execution_count": 12,
   "id": "f72c0a05",
   "metadata": {},
   "outputs": [],
   "source": [
    "actor1=os.listdir('chris evans')"
   ]
  },
  {
   "cell_type": "code",
   "execution_count": 13,
   "id": "e43b5932",
   "metadata": {},
   "outputs": [],
   "source": [
    "actor2=os.listdir('Cillian Murphy')"
   ]
  },
  {
   "cell_type": "code",
   "execution_count": 14,
   "id": "59b4ada1",
   "metadata": {},
   "outputs": [],
   "source": [
    "actor3=os.listdir('tom hiddleson')"
   ]
  }
 ],
 "metadata": {
  "kernelspec": {
   "display_name": "Python 3 (ipykernel)",
   "language": "python",
   "name": "python3"
  },
  "language_info": {
   "codemirror_mode": {
    "name": "ipython",
    "version": 3
   },
   "file_extension": ".py",
   "mimetype": "text/x-python",
   "name": "python",
   "nbconvert_exporter": "python",
   "pygments_lexer": "ipython3",
   "version": "3.9.18"
  }
 },
 "nbformat": 4,
 "nbformat_minor": 5
}
