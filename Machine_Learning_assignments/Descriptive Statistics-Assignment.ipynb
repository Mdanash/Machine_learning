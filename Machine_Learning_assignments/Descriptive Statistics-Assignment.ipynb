{
 "cells": [
  {
   "cell_type": "code",
   "execution_count": 1,
   "id": "e23d5a9e",
   "metadata": {},
   "outputs": [],
   "source": [
    "import pandas as pd\n",
    "import numpy as np\n",
    "import matplotlib.pyplot as py\n",
    "%matplotlib inline"
   ]
  },
  {
   "cell_type": "code",
   "execution_count": 2,
   "id": "5f534ea3",
   "metadata": {},
   "outputs": [
    {
     "data": {
      "text/html": [
       "<div>\n",
       "<style scoped>\n",
       "    .dataframe tbody tr th:only-of-type {\n",
       "        vertical-align: middle;\n",
       "    }\n",
       "\n",
       "    .dataframe tbody tr th {\n",
       "        vertical-align: top;\n",
       "    }\n",
       "\n",
       "    .dataframe thead th {\n",
       "        text-align: right;\n",
       "    }\n",
       "</style>\n",
       "<table border=\"1\" class=\"dataframe\">\n",
       "  <thead>\n",
       "    <tr style=\"text-align: right;\">\n",
       "      <th></th>\n",
       "      <th>date</th>\n",
       "      <th>weekday</th>\n",
       "      <th>winning_numbers</th>\n",
       "      <th>powerball</th>\n",
       "      <th>powerplay</th>\n",
       "      <th>jackpot</th>\n",
       "    </tr>\n",
       "  </thead>\n",
       "  <tbody>\n",
       "    <tr>\n",
       "      <th>0</th>\n",
       "      <td>2014-05-07</td>\n",
       "      <td>Wed</td>\n",
       "      <td>17-29-31-48-49</td>\n",
       "      <td>34</td>\n",
       "      <td>2</td>\n",
       "      <td>70000000</td>\n",
       "    </tr>\n",
       "    <tr>\n",
       "      <th>1</th>\n",
       "      <td>2014-05-10</td>\n",
       "      <td>Sat</td>\n",
       "      <td>4-31-41-47-55</td>\n",
       "      <td>1</td>\n",
       "      <td>2</td>\n",
       "      <td>90000000</td>\n",
       "    </tr>\n",
       "    <tr>\n",
       "      <th>2</th>\n",
       "      <td>2014-05-14</td>\n",
       "      <td>Wed</td>\n",
       "      <td>7-33-39-52-55</td>\n",
       "      <td>33</td>\n",
       "      <td>3</td>\n",
       "      <td>90000000</td>\n",
       "    </tr>\n",
       "    <tr>\n",
       "      <th>3</th>\n",
       "      <td>2014-05-17</td>\n",
       "      <td>Sat</td>\n",
       "      <td>23-32-39-47-49</td>\n",
       "      <td>22</td>\n",
       "      <td>3</td>\n",
       "      <td>114000000</td>\n",
       "    </tr>\n",
       "    <tr>\n",
       "      <th>4</th>\n",
       "      <td>2014-05-21</td>\n",
       "      <td>Wed</td>\n",
       "      <td>4-20-34-39-58</td>\n",
       "      <td>31</td>\n",
       "      <td>5</td>\n",
       "      <td>114000000</td>\n",
       "    </tr>\n",
       "    <tr>\n",
       "      <th>...</th>\n",
       "      <td>...</td>\n",
       "      <td>...</td>\n",
       "      <td>...</td>\n",
       "      <td>...</td>\n",
       "      <td>...</td>\n",
       "      <td>...</td>\n",
       "    </tr>\n",
       "    <tr>\n",
       "      <th>945</th>\n",
       "      <td>2022-10-24</td>\n",
       "      <td>Mon</td>\n",
       "      <td>18-23-35-45-54</td>\n",
       "      <td>16</td>\n",
       "      <td>4</td>\n",
       "      <td>625000000</td>\n",
       "    </tr>\n",
       "    <tr>\n",
       "      <th>946</th>\n",
       "      <td>2022-10-26</td>\n",
       "      <td>Wed</td>\n",
       "      <td>19-36-37-46-56</td>\n",
       "      <td>24</td>\n",
       "      <td>2</td>\n",
       "      <td>700000000</td>\n",
       "    </tr>\n",
       "    <tr>\n",
       "      <th>947</th>\n",
       "      <td>2022-10-29</td>\n",
       "      <td>Sat</td>\n",
       "      <td>19-31-40-46-57</td>\n",
       "      <td>23</td>\n",
       "      <td>3</td>\n",
       "      <td>825000000</td>\n",
       "    </tr>\n",
       "    <tr>\n",
       "      <th>948</th>\n",
       "      <td>2022-10-31</td>\n",
       "      <td>Mon</td>\n",
       "      <td>13-19-36-39-59</td>\n",
       "      <td>13</td>\n",
       "      <td>3</td>\n",
       "      <td>1000000000</td>\n",
       "    </tr>\n",
       "    <tr>\n",
       "      <th>949</th>\n",
       "      <td>2022-11-02</td>\n",
       "      <td>Wed</td>\n",
       "      <td>2-11-22-35-60</td>\n",
       "      <td>23</td>\n",
       "      <td>2</td>\n",
       "      <td>120000000000</td>\n",
       "    </tr>\n",
       "  </tbody>\n",
       "</table>\n",
       "<p>950 rows × 6 columns</p>\n",
       "</div>"
      ],
      "text/plain": [
       "           date weekday winning_numbers  powerball  powerplay       jackpot\n",
       "0    2014-05-07     Wed  17-29-31-48-49         34          2      70000000\n",
       "1    2014-05-10     Sat   4-31-41-47-55          1          2      90000000\n",
       "2    2014-05-14     Wed   7-33-39-52-55         33          3      90000000\n",
       "3    2014-05-17     Sat  23-32-39-47-49         22          3     114000000\n",
       "4    2014-05-21     Wed   4-20-34-39-58         31          5     114000000\n",
       "..          ...     ...             ...        ...        ...           ...\n",
       "945  2022-10-24     Mon  18-23-35-45-54         16          4     625000000\n",
       "946  2022-10-26     Wed  19-36-37-46-56         24          2     700000000\n",
       "947  2022-10-29     Sat  19-31-40-46-57         23          3     825000000\n",
       "948  2022-10-31     Mon  13-19-36-39-59         13          3    1000000000\n",
       "949  2022-11-02     Wed   2-11-22-35-60         23          2  120000000000\n",
       "\n",
       "[950 rows x 6 columns]"
      ]
     },
     "execution_count": 2,
     "metadata": {},
     "output_type": "execute_result"
    }
   ],
   "source": [
    "lottery=pd.read_csv('lottery_data.csv')\n",
    "lottery"
   ]
  },
  {
   "cell_type": "code",
   "execution_count": 3,
   "id": "8b6f6e29",
   "metadata": {},
   "outputs": [
    {
     "data": {
      "text/html": [
       "<div>\n",
       "<style scoped>\n",
       "    .dataframe tbody tr th:only-of-type {\n",
       "        vertical-align: middle;\n",
       "    }\n",
       "\n",
       "    .dataframe tbody tr th {\n",
       "        vertical-align: top;\n",
       "    }\n",
       "\n",
       "    .dataframe thead th {\n",
       "        text-align: right;\n",
       "    }\n",
       "</style>\n",
       "<table border=\"1\" class=\"dataframe\">\n",
       "  <thead>\n",
       "    <tr style=\"text-align: right;\">\n",
       "      <th></th>\n",
       "      <th>powerball</th>\n",
       "      <th>powerplay</th>\n",
       "      <th>jackpot</th>\n",
       "    </tr>\n",
       "  </thead>\n",
       "  <tbody>\n",
       "    <tr>\n",
       "      <th>0</th>\n",
       "      <td>34</td>\n",
       "      <td>2</td>\n",
       "      <td>70000000</td>\n",
       "    </tr>\n",
       "    <tr>\n",
       "      <th>1</th>\n",
       "      <td>1</td>\n",
       "      <td>2</td>\n",
       "      <td>90000000</td>\n",
       "    </tr>\n",
       "    <tr>\n",
       "      <th>2</th>\n",
       "      <td>33</td>\n",
       "      <td>3</td>\n",
       "      <td>90000000</td>\n",
       "    </tr>\n",
       "    <tr>\n",
       "      <th>3</th>\n",
       "      <td>22</td>\n",
       "      <td>3</td>\n",
       "      <td>114000000</td>\n",
       "    </tr>\n",
       "    <tr>\n",
       "      <th>4</th>\n",
       "      <td>31</td>\n",
       "      <td>5</td>\n",
       "      <td>114000000</td>\n",
       "    </tr>\n",
       "    <tr>\n",
       "      <th>...</th>\n",
       "      <td>...</td>\n",
       "      <td>...</td>\n",
       "      <td>...</td>\n",
       "    </tr>\n",
       "    <tr>\n",
       "      <th>945</th>\n",
       "      <td>16</td>\n",
       "      <td>4</td>\n",
       "      <td>625000000</td>\n",
       "    </tr>\n",
       "    <tr>\n",
       "      <th>946</th>\n",
       "      <td>24</td>\n",
       "      <td>2</td>\n",
       "      <td>700000000</td>\n",
       "    </tr>\n",
       "    <tr>\n",
       "      <th>947</th>\n",
       "      <td>23</td>\n",
       "      <td>3</td>\n",
       "      <td>825000000</td>\n",
       "    </tr>\n",
       "    <tr>\n",
       "      <th>948</th>\n",
       "      <td>13</td>\n",
       "      <td>3</td>\n",
       "      <td>1000000000</td>\n",
       "    </tr>\n",
       "    <tr>\n",
       "      <th>949</th>\n",
       "      <td>23</td>\n",
       "      <td>2</td>\n",
       "      <td>120000000000</td>\n",
       "    </tr>\n",
       "  </tbody>\n",
       "</table>\n",
       "<p>950 rows × 3 columns</p>\n",
       "</div>"
      ],
      "text/plain": [
       "     powerball  powerplay       jackpot\n",
       "0           34          2      70000000\n",
       "1            1          2      90000000\n",
       "2           33          3      90000000\n",
       "3           22          3     114000000\n",
       "4           31          5     114000000\n",
       "..         ...        ...           ...\n",
       "945         16          4     625000000\n",
       "946         24          2     700000000\n",
       "947         23          3     825000000\n",
       "948         13          3    1000000000\n",
       "949         23          2  120000000000\n",
       "\n",
       "[950 rows x 3 columns]"
      ]
     },
     "execution_count": 3,
     "metadata": {},
     "output_type": "execute_result"
    }
   ],
   "source": [
    "lottery1=lottery.drop(['weekday','date','winning_numbers'],axis=1)\n",
    "lottery1"
   ]
  },
  {
   "cell_type": "code",
   "execution_count": 4,
   "id": "84883586",
   "metadata": {},
   "outputs": [
    {
     "data": {
      "text/plain": [
       "powerball    1.451053e+01\n",
       "powerplay    2.694737e+00\n",
       "jackpot      2.923004e+08\n",
       "dtype: float64"
      ]
     },
     "execution_count": 4,
     "metadata": {},
     "output_type": "execute_result"
    }
   ],
   "source": [
    "lottery1.mean()"
   ]
  },
  {
   "cell_type": "code",
   "execution_count": 5,
   "id": "46c96f2e",
   "metadata": {},
   "outputs": [
    {
     "data": {
      "text/plain": [
       "powerball           14.5\n",
       "powerplay            2.0\n",
       "jackpot      125500000.0\n",
       "dtype: float64"
      ]
     },
     "execution_count": 5,
     "metadata": {},
     "output_type": "execute_result"
    }
   ],
   "source": [
    "lottery1.median()"
   ]
  },
  {
   "cell_type": "code",
   "execution_count": 6,
   "id": "c331dd80",
   "metadata": {},
   "outputs": [
    {
     "data": {
      "text/html": [
       "<div>\n",
       "<style scoped>\n",
       "    .dataframe tbody tr th:only-of-type {\n",
       "        vertical-align: middle;\n",
       "    }\n",
       "\n",
       "    .dataframe tbody tr th {\n",
       "        vertical-align: top;\n",
       "    }\n",
       "\n",
       "    .dataframe thead th {\n",
       "        text-align: right;\n",
       "    }\n",
       "</style>\n",
       "<table border=\"1\" class=\"dataframe\">\n",
       "  <thead>\n",
       "    <tr style=\"text-align: right;\">\n",
       "      <th></th>\n",
       "      <th>powerball</th>\n",
       "      <th>powerplay</th>\n",
       "      <th>jackpot</th>\n",
       "    </tr>\n",
       "  </thead>\n",
       "  <tbody>\n",
       "    <tr>\n",
       "      <th>0</th>\n",
       "      <td>24</td>\n",
       "      <td>2</td>\n",
       "      <td>40000000</td>\n",
       "    </tr>\n",
       "  </tbody>\n",
       "</table>\n",
       "</div>"
      ],
      "text/plain": [
       "   powerball  powerplay   jackpot\n",
       "0         24          2  40000000"
      ]
     },
     "execution_count": 6,
     "metadata": {},
     "output_type": "execute_result"
    }
   ],
   "source": [
    "lottery1.mode()"
   ]
  },
  {
   "cell_type": "code",
   "execution_count": 7,
   "id": "fa9e332f",
   "metadata": {},
   "outputs": [
    {
     "data": {
      "text/plain": [
       "119980000000"
      ]
     },
     "execution_count": 7,
     "metadata": {},
     "output_type": "execute_result"
    }
   ],
   "source": [
    "max(lottery1['jackpot'])-min(lottery1['jackpot'])"
   ]
  },
  {
   "cell_type": "code",
   "execution_count": 8,
   "id": "578f4f04",
   "metadata": {},
   "outputs": [
    {
     "data": {
      "text/plain": [
       "[20000000.0, 70000000.0, 125500000.0, 221500000.0, 120000000000.0]"
      ]
     },
     "execution_count": 8,
     "metadata": {},
     "output_type": "execute_result"
    }
   ],
   "source": [
    "q_value=[lottery1['jackpot'].quantile(0),\n",
    "        lottery1['jackpot'].quantile(0.25),\n",
    "        lottery1['jackpot'].quantile(0.50),\n",
    "         lottery1['jackpot'].quantile(0.75),\n",
    "        lottery1['jackpot'].quantile(1)]\n",
    "\n",
    "q_value"
   ]
  },
  {
   "cell_type": "code",
   "execution_count": 9,
   "id": "e58b6a2f",
   "metadata": {},
   "outputs": [
    {
     "data": {
      "text/plain": [
       "count    9.500000e+02\n",
       "mean     2.923004e+08\n",
       "std      3.890469e+09\n",
       "min      2.000000e+07\n",
       "25%      7.000000e+07\n",
       "50%      1.255000e+08\n",
       "75%      2.215000e+08\n",
       "max      1.200000e+11\n",
       "Name: jackpot, dtype: float64"
      ]
     },
     "execution_count": 9,
     "metadata": {},
     "output_type": "execute_result"
    }
   ],
   "source": [
    "lottery1['jackpot'].describe()"
   ]
  },
  {
   "cell_type": "code",
   "execution_count": 10,
   "id": "91d21bf3",
   "metadata": {},
   "outputs": [
    {
     "data": {
      "text/plain": [
       "123000000.0"
      ]
     },
     "execution_count": 10,
     "metadata": {},
     "output_type": "execute_result"
    }
   ],
   "source": [
    "lottery1['jackpot'].quantile(0.70)-lottery1['jackpot'].quantile(0.25)"
   ]
  },
  {
   "cell_type": "code",
   "execution_count": 11,
   "id": "82d5eb31",
   "metadata": {},
   "outputs": [
    {
     "data": {
      "text/plain": [
       "1.5135749374330698e+19"
      ]
     },
     "execution_count": 11,
     "metadata": {},
     "output_type": "execute_result"
    }
   ],
   "source": [
    "lottery1['jackpot'].var()"
   ]
  },
  {
   "cell_type": "code",
   "execution_count": 12,
   "id": "7b144f08",
   "metadata": {},
   "outputs": [
    {
     "data": {
      "text/plain": [
       "3890469042.972929"
      ]
     },
     "execution_count": 12,
     "metadata": {},
     "output_type": "execute_result"
    }
   ],
   "source": [
    "lottery1['jackpot'].std()"
   ]
  },
  {
   "cell_type": "code",
   "execution_count": 13,
   "id": "5a392506",
   "metadata": {},
   "outputs": [
    {
     "data": {
      "text/plain": [
       "30.761592836901986"
      ]
     },
     "execution_count": 13,
     "metadata": {},
     "output_type": "execute_result"
    }
   ],
   "source": [
    "lottery1['jackpot'].skew()"
   ]
  },
  {
   "cell_type": "code",
   "execution_count": 14,
   "id": "ce8f363a",
   "metadata": {},
   "outputs": [
    {
     "data": {
      "text/plain": [
       "947.5079273845719"
      ]
     },
     "execution_count": 14,
     "metadata": {},
     "output_type": "execute_result"
    }
   ],
   "source": [
    "lottery1['jackpot'].kurt()"
   ]
  },
  {
   "cell_type": "code",
   "execution_count": 15,
   "id": "766405a0",
   "metadata": {},
   "outputs": [
    {
     "data": {
      "image/png": "[encoded data removed]",
      "text/plain": [
       "<Figure size 800x800 with 1 Axes>"
      ]
     },
     "metadata": {},
     "output_type": "display_data"
    }
   ],
   "source": [
    "lottery1.boxplot(column='powerplay',return_type='axes',\n",
    "            figsize=(8,8))\n",
    "\n",
    "py.text(x=0.74,y=4.5,s='3rd quartile')\n",
    "py.text(x=0.8,y=3.5,s='median')\n",
    "py.text(x=0.75,y=3,s='1st quartile')\n",
    "py.text(x=0.9,y=1,s='min')\n",
    "py.text(x=0.9,y=9,s='max')\n",
    "py.text(x=0.7,y=2.5,s='IQR',rotation=90,size=25);"
   ]
  }
 ],
 "metadata": {
  "kernelspec": {
   "display_name": "Python 3 (ipykernel)",
   "language": "python",
   "name": "python3"
  },
  "language_info": {
   "codemirror_mode": {
    "name": "ipython",
    "version": 3
   },
   "file_extension": ".py",
   "mimetype": "text/x-python",
   "name": "python",
   "nbconvert_exporter": "python",
   "pygments_lexer": "ipython3",
   "version": "3.9.17"
  }
 },
 "nbformat": 4,
 "nbformat_minor": 5
}
